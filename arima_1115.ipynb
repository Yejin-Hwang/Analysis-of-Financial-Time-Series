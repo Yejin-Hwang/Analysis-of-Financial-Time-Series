{
 "cells": [
  {
   "cell_type": "code",
   "execution_count": 2,
   "metadata": {},
   "outputs": [],
   "source": [
    "import pandas as pd\n",
    "import numpy as np\n",
    "import yfinance as yf\n",
    "import matplotlib.pyplot as plt\n",
    "%matplotlib inline\n",
    "from statsmodels.tsa.stattools import acf\n",
    "from sklearn.metrics import mean_squared_error, mean_absolute_error\n"
   ]
  },
  {
   "cell_type": "code",
   "execution_count": 75,
   "metadata": {},
   "outputs": [
    {
     "name": "stderr",
     "output_type": "stream",
     "text": [
      "[*********************100%***********************]  1 of 1 completed\n"
     ]
    }
   ],
   "source": [
    "tesla_stock_data = yf.download('TSLA', start='2024-01-01', end='2024-11-13')\n",
    "tesla_stock_data = tesla_stock_data ['Close']\n",
    "# tesla_stock_data"
   ]
  },
  {
   "cell_type": "markdown",
   "metadata": {},
   "source": [
    "# 1. Define ARMA YEJIN"
   ]
  },
  {
   "cell_type": "markdown",
   "metadata": {},
   "source": [
    "**Question : how to find optimized p and q ?? **\n",
    ">> I  use random p and q >> it will make problem\n",
    "\n",
    "book 52p (pdf 77p) : identifying MA order by looking ACF. \n",
    "\n",
    "book 53 p : maximum likelihood estimation ? \n",
    "\n",
    "book 59 p : EACF for ARMA "
   ]
  },
  {
   "cell_type": "code",
   "execution_count": 4,
   "metadata": {},
   "outputs": [],
   "source": [
    "\n",
    "# Define the ARMA model function from scratch\n",
    "def arma_yejin(data, p, q):\n",
    "    n = len(data)  # Length of the time series data\n",
    "    \n",
    "    #( this part should be corrected)# \n",
    "    \n",
    "    # Initialize AR and MA coefficients\n",
    "    ar_coeffs = np.random.randn(p)  # AR coefficients with random initialization #mean 0, std 1\n",
    "    ma_coeffs = np.random.randn(q)  # MA coefficients with random initialization #mean 0, std 1\n",
    "    \n",
    "    # Initialize arrays for predictions and residuals \n",
    "    predictions = np.zeros(n)\n",
    "    residuals = np.zeros(n)\n",
    "    \n",
    "    # ARMA model calculation: iterate over the data starting from max(p, q) to avoid index errors\n",
    "    for t in range(max(p, q), n):\n",
    "        # Sum of AR terms based on past data\n",
    "        ar_sum = sum(ar_coeffs[i] * data[t - i - 1] for i in range(p)) #effected by previous data\n",
    "        \n",
    "        # Sum of MA terms based on past residuals\n",
    "        ma_sum = sum(ma_coeffs[j] * residuals[t - j - 1] for j in range(q)) #effected by previous residuals\n",
    "        \n",
    "        # Calculate the prediction for current time step\n",
    "        predictions[t] = ar_sum + ma_sum\n",
    "        \n",
    "        # Calculate the residual as the difference between actual and predicted values\n",
    "        residuals[t] = data[t] - predictions[t]\n",
    "    \n",
    "    return predictions, residuals  # Return predictions and residuals"
   ]
  },
  {
   "cell_type": "markdown",
   "metadata": {},
   "source": [
    "# 2. def stock_analysis \n",
    "- parameter :  (stock name,time period, start date, end date , p , q) \n",
    "- p, q >> parameter of arma_yejin , p = AR order, q = MR order\n",
    "\n",
    "1) plot of the original trend(true values) and predicted values \n",
    "2) plot of auto correlation of residuals >> to check the model \n",
    "3) list result for error matrix \n"
   ]
  },
  {
   "cell_type": "code",
   "execution_count": 188,
   "metadata": {},
   "outputs": [
    {
     "ename": "IndentationError",
     "evalue": "unexpected indent (4292915250.py, line 47)",
     "output_type": "error",
     "traceback": [
      "\u001b[0;36m  Cell \u001b[0;32mIn[188], line 47\u001b[0;36m\u001b[0m\n\u001b[0;31m    denominator = np.sum((stock_name - s_mean) ** 2)\u001b[0m\n\u001b[0m    ^\u001b[0m\n\u001b[0;31mIndentationError\u001b[0m\u001b[0;31m:\u001b[0m unexpected indent\n"
     ]
    }
   ],
   "source": [
    "import matplotlib.dates as mdates\n",
    "import matplotlib.pyplot as plt\n",
    "import yfinance as yf\n",
    "from statsmodels.tsa.stattools import acf\n",
    "\n",
    "# Define the main analysis function\n",
    "def stock_analysis(stock_name, time_period, start_date, end_date, p=2, q=1):\n",
    "    # Download stock data from yfinance based on the stock name and date range\n",
    "    data = yf.download(stock_name, start=start_date, end=end_date, interval=time_period)\n",
    "    \n",
    "    # Check if data is loaded correctly and within the specified date range\n",
    "    if data.empty:\n",
    "        print(f\"No data found for {stock_name}. Please check the stock ticker symbol or date range.\")\n",
    "        return None\n",
    "    \n",
    "    # Verify the date range of data\n",
    "    print(\"Data Date Range:\", data.index.min(), \"to\", data.index.max())\n",
    "    \n",
    "    # Extract the 'Close' price as the target data for ARMA modeling\n",
    "    data_values = data['Close'].values\n",
    "    \n",
    "    # Call the custom ARMA function to get predictions and residuals\n",
    "    predicted_values, residuals = arma_yejin(data_values,p, q)\n",
    "\n",
    "    # Plot the original data and the predicted values on the same plot\n",
    "    plt.figure(figsize=(12, 6))\n",
    "    plt.plot(data.index, data_values, label=\"Original Data\", color=\"blue\")\n",
    "    plt.plot(data.index, predicted_values, label=\"Predicted Values\", color=\"red\", linestyle=\"--\")\n",
    "    \n",
    "    #add title, labels, and legend\n",
    "    plt.title(f\"{stock_name} Stock Price Prediction\")\n",
    "    plt.xlabel(\"Date\")\n",
    "    plt.ylabel(\"Stock Price\")\n",
    "    plt.legend()\n",
    "    plt.show\n",
    "    \n",
    "    \n",
    "    # Return series (예시로 sine wave 사용)\n",
    "    T = 500\n",
    "    r_t = np.sin(np.linspace(0, 20, T))\n",
    "\n",
    "# Lag-l sample autocorrelation (for multiple lags)\n",
    "    def sample_autocorrelation(stock_name, lag):\n",
    "         T = len(stock_name)\n",
    "         s_mean = np.mean(stock_name)\n",
    "         numerator = np.sum((stock_name[lag:] - s_mean) * (stock_namet[:-lag] - s_mean))\n",
    "          denominator = np.sum((stock_name - s_mean) ** 2)\n",
    "         return numerator / denominator\n",
    "\n",
    "# Compute and plot autocorrelations for multiple lags (1부터 200까지)\n",
    "lags = np.arange(1, 500)  # set the range of lags\n",
    "autocorrs = [sample_autocorrelation(s_t, lag) for lag in lags]\n",
    "\n",
    "plt.stem(lags, autocorrs)  # use_line_collection 제거\n",
    "plt.xlabel('Lag')\n",
    "plt.ylabel('Autocorrelation')\n",
    "plt.title('Sample Autocorrelation (Lag upto 200)')\n",
    "plt.show()\n",
    "\n",
    "    \n",
    "\n",
    "    # # Calculate and plot the autocorrelation of residuals >> need to change ( add autocorrelation function)\n",
    "    # autocorr_residuals = np.correlate(residuals, residuals, mode='full')\n",
    "    \n",
    "    # plt.figure(figsize=(10, 5))\n",
    "    # plt.plot(autocorr_residuals, color=\"purple\")\n",
    "    # plt.xlabel(\"Lag\")\n",
    "    # plt.ylabel(\"Autocorrelation\")\n",
    "    # plt.title(\"Autocorrelation of the Residuals\")\n",
    "    # plt.show()\n",
    "    \n",
    "    # calculate the MSE and MAE\n",
    "    mse = ((data_values - predicted_values)**2).mean()\n",
    "    mae = abs(data_values - predicted_values).mean()\n",
    "    rmse = np.sqrt(mse)\n",
    "    \n",
    "    print(f\"Mean Squared Error (MSE): {mse}\")\n",
    "    print(f\"Mean Absolute Error (MAE): {mae}\")\n",
    "    print(f\"Root of Mean Squared Error (RMSE): {rmse}\")\n",
    "    \n",
    "    return {\"Predictions\": predicted_values, \"Residuals\": residuals}\n",
    "\n",
    "\n",
    "# Example usage\n",
    "errors = stock_analysis(\n",
    "    stock_name=\"TSLA\",          # Ticker for Tesla\n",
    "    time_period=\"1d\",           # Daily interval\n",
    "    start_date='2024-01-01',    # Start date for data download\n",
    "    end_date='2024-11-13',      # End date for data download\n",
    "    p=2,                         # AR order\n",
    "    q=1                          # MA order\n",
    ")"
   ]
  },
  {
   "cell_type": "markdown",
   "metadata": {},
   "source": [
    "### As I understand, the autocorrelation of residuals should be around 0, indicating random and independent values. If there is a noticeable pattern, we can consider applying an ARIMA model by adding differencing to remove trends. Additionally, if there’s a seasonal pattern, adjusting for seasonality may be helpful"
   ]
  }
 ],
 "metadata": {
  "kernelspec": {
   "display_name": "base",
   "language": "python",
   "name": "python3"
  },
  "language_info": {
   "codemirror_mode": {
    "name": "ipython",
    "version": 3
   },
   "file_extension": ".py",
   "mimetype": "text/x-python",
   "name": "python",
   "nbconvert_exporter": "python",
   "pygments_lexer": "ipython3",
   "version": "3.12.4"
  }
 },
 "nbformat": 4,
 "nbformat_minor": 2
}
