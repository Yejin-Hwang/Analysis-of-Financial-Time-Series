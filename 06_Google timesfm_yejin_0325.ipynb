{
 "cells": [
  {
   "cell_type": "markdown",
   "metadata": {},
   "source": [
    "# Google TimesFM model for predict today's tesla stock price (yejin)\n",
    "\n",
    "- TimesFM (Time Series Foundation Model)\n",
    "- reference \n",
    ": https://huggingface.co/google/timesfm-1.0-200m\n",
    "\n",
    "* used python 3.11.11 in jupyter kernel on my mac"
   ]
  },
  {
   "cell_type": "code",
   "execution_count": 1,
   "metadata": {},
   "outputs": [],
   "source": [
    "import pandas as pd\n",
    "import numpy as np\n",
    "import matplotlib.pyplot as plt\n",
    "import yfinance as yf\n",
    "from time import time\n",
    "from datetime import date\n",
    "import warnings\n",
    "warnings.filterwarnings(\"ignore\")"
   ]
  },
  {
   "cell_type": "code",
   "execution_count": 2,
   "metadata": {},
   "outputs": [
    {
     "name": "stdout",
     "output_type": "stream",
     "text": [
      " See https://github.com/google-research/timesfm/blob/master/README.md for updated APIs.\n",
      "Loaded PyTorch TimesFM, likely because python version is 3.11.11 (main, Jan 27 2025, 15:58:08) [Clang 16.0.0 (clang-1600.0.26.6)].\n"
     ]
    },
    {
     "data": {
      "application/vnd.jupyter.widget-view+json": {
       "model_id": "e3f45f65b0c64bc4ab48e8175d88e618",
       "version_major": 2,
       "version_minor": 0
      },
      "text/plain": [
       "Fetching 5 files:   0%|          | 0/5 [00:00<?, ?it/s]"
      ]
     },
     "metadata": {},
     "output_type": "display_data"
    }
   ],
   "source": [
    "import timesfm\n",
    "# For Torch\n",
    "tfm = timesfm.TimesFm(\n",
    "      hparams=timesfm.TimesFmHparams(\n",
    "          backend=\"gpu\",\n",
    "          per_core_batch_size=32, \n",
    "          horizon_len=128, # predict 128 days into the future(2025,about 5 months)\n",
    "          num_layers=50, \n",
    "          use_positional_embedding=False,\n",
    "          context_len=500, # previous 500 days (because I'm using 500 days of data- 2023-2024)\n",
    "      ),\n",
    "      checkpoint=timesfm.TimesFmCheckpoint(\n",
    "          huggingface_repo_id=\"google/timesfm-2.0-500m-pytorch\"),\n",
    "  )"
   ]
  },
  {
   "cell_type": "code",
   "execution_count": 3,
   "metadata": {},
   "outputs": [
    {
     "data": {
      "application/vnd.jupyter.widget-view+json": {
       "model_id": "5cea6c459c48460088b46681dff7dcb7",
       "version_major": 2,
       "version_minor": 0
      },
      "text/plain": [
       "Fetching 3 files:   0%|          | 0/3 [00:00<?, ?it/s]"
      ]
     },
     "metadata": {},
     "output_type": "display_data"
    }
   ],
   "source": [
    "# For Torch\n",
    "tfm = timesfm.TimesFm(\n",
    "      hparams=timesfm.TimesFmHparams(\n",
    "          backend=\"gpu\",\n",
    "          per_core_batch_size=32,\n",
    "          horizon_len=128,\n",
    "      ),\n",
    "      checkpoint=timesfm.TimesFmCheckpoint(\n",
    "          huggingface_repo_id=\"google/timesfm-1.0-200m-pytorch\"),\n",
    "  )"
   ]
  },
  {
   "cell_type": "markdown",
   "metadata": {},
   "source": [
    "# 1. Fetch stock data for TSLA"
   ]
  },
  {
   "cell_type": "code",
   "execution_count": 4,
   "metadata": {},
   "outputs": [
    {
     "data": {
      "text/html": [
       "<div>\n",
       "<style scoped>\n",
       "    .dataframe tbody tr th:only-of-type {\n",
       "        vertical-align: middle;\n",
       "    }\n",
       "\n",
       "    .dataframe tbody tr th {\n",
       "        vertical-align: top;\n",
       "    }\n",
       "\n",
       "    .dataframe thead th {\n",
       "        text-align: right;\n",
       "    }\n",
       "</style>\n",
       "<table border=\"1\" class=\"dataframe\">\n",
       "  <thead>\n",
       "    <tr style=\"text-align: right;\">\n",
       "      <th></th>\n",
       "      <th>Date</th>\n",
       "      <th>Open</th>\n",
       "      <th>High</th>\n",
       "      <th>Low</th>\n",
       "      <th>Close</th>\n",
       "      <th>Volume</th>\n",
       "      <th>Dividends</th>\n",
       "      <th>Stock Splits</th>\n",
       "    </tr>\n",
       "  </thead>\n",
       "  <tbody>\n",
       "    <tr>\n",
       "      <th>0</th>\n",
       "      <td>2023-01-03 00:00:00-05:00</td>\n",
       "      <td>118.470001</td>\n",
       "      <td>118.800003</td>\n",
       "      <td>104.639999</td>\n",
       "      <td>108.099998</td>\n",
       "      <td>231402800</td>\n",
       "      <td>0.0</td>\n",
       "      <td>0.0</td>\n",
       "    </tr>\n",
       "    <tr>\n",
       "      <th>1</th>\n",
       "      <td>2023-01-04 00:00:00-05:00</td>\n",
       "      <td>109.110001</td>\n",
       "      <td>114.589996</td>\n",
       "      <td>107.519997</td>\n",
       "      <td>113.639999</td>\n",
       "      <td>180389000</td>\n",
       "      <td>0.0</td>\n",
       "      <td>0.0</td>\n",
       "    </tr>\n",
       "    <tr>\n",
       "      <th>2</th>\n",
       "      <td>2023-01-05 00:00:00-05:00</td>\n",
       "      <td>110.510002</td>\n",
       "      <td>111.750000</td>\n",
       "      <td>107.160004</td>\n",
       "      <td>110.339996</td>\n",
       "      <td>157986300</td>\n",
       "      <td>0.0</td>\n",
       "      <td>0.0</td>\n",
       "    </tr>\n",
       "    <tr>\n",
       "      <th>3</th>\n",
       "      <td>2023-01-06 00:00:00-05:00</td>\n",
       "      <td>103.000000</td>\n",
       "      <td>114.389999</td>\n",
       "      <td>101.809998</td>\n",
       "      <td>113.059998</td>\n",
       "      <td>220911100</td>\n",
       "      <td>0.0</td>\n",
       "      <td>0.0</td>\n",
       "    </tr>\n",
       "    <tr>\n",
       "      <th>4</th>\n",
       "      <td>2023-01-09 00:00:00-05:00</td>\n",
       "      <td>118.959999</td>\n",
       "      <td>123.519997</td>\n",
       "      <td>117.110001</td>\n",
       "      <td>119.769997</td>\n",
       "      <td>190284000</td>\n",
       "      <td>0.0</td>\n",
       "      <td>0.0</td>\n",
       "    </tr>\n",
       "  </tbody>\n",
       "</table>\n",
       "</div>"
      ],
      "text/plain": [
       "                       Date        Open        High         Low       Close  \\\n",
       "0 2023-01-03 00:00:00-05:00  118.470001  118.800003  104.639999  108.099998   \n",
       "1 2023-01-04 00:00:00-05:00  109.110001  114.589996  107.519997  113.639999   \n",
       "2 2023-01-05 00:00:00-05:00  110.510002  111.750000  107.160004  110.339996   \n",
       "3 2023-01-06 00:00:00-05:00  103.000000  114.389999  101.809998  113.059998   \n",
       "4 2023-01-09 00:00:00-05:00  118.959999  123.519997  117.110001  119.769997   \n",
       "\n",
       "      Volume  Dividends  Stock Splits  \n",
       "0  231402800        0.0           0.0  \n",
       "1  180389000        0.0           0.0  \n",
       "2  157986300        0.0           0.0  \n",
       "3  220911100        0.0           0.0  \n",
       "4  190284000        0.0           0.0  "
      ]
     },
     "execution_count": 4,
     "metadata": {},
     "output_type": "execute_result"
    }
   ],
   "source": [
    "GetTSLA = yf.Ticker(\"TSLA\")\n",
    "# df=GetTSLA.history(period=\"max\")\n",
    "\n",
    "df = GetTSLA.history(start=\"2023-01-01\", end=\"2024-12-31\")\n",
    "df.reset_index(inplace=True)  # Reset index to make \"Date\" a column\n",
    "\n",
    "df.head()"
   ]
  },
  {
   "cell_type": "code",
   "execution_count": 5,
   "metadata": {},
   "outputs": [
    {
     "name": "stdout",
     "output_type": "stream",
     "text": [
      "total length: 501\n"
     ]
    }
   ],
   "source": [
    "# 2. Filter for 2023–2024 only\n",
    "df_filtered = df[(df['Date'] >= '2023-01-01') & (df['Date'] <= '2024-12-31')].copy()\n",
    "df_filtered.reset_index(drop=True, inplace=True)\n",
    "print(\"total length:\", len(df_filtered))\n",
    "\n",
    "# 3. Extract the 'Close' prices as a numpy array\n",
    "series = df_filtered['Close'].values\n",
    "\n",
    "# 4. Wrap in a list to match TimeFM input format\n",
    "forecast_input = [series]\n",
    "\n",
    "\n",
    "# 5. Frequency info (you can just use [0] if only one series)\n",
    "frequency_input = [0] # daily frequency\n"
   ]
  },
  {
   "cell_type": "markdown",
   "metadata": {},
   "source": [
    "### 5. frequency input\n",
    "In particular regarding the frequency, TimesFM expects a categorical indicator valued in {0, 1, 2}:\n",
    "\n",
    "- 0 (default): high frequency, long horizon time series. We recommend using this for time series up to daily granularity.\n",
    "- 1: medium frequency time series. We recommend using this for weekly and monthly data.\n",
    "- 2: low frequency, short horizon time series. We recommend using this for anything beyond monthly, e.g. quarterly or yearly.\n",
    "This categorical value should be directly provided with the array inputs. For dataframe inputs, we convert the conventional letter coding of frequencies to our expected categories, that\n",
    "\n",
    "0: T, MIN, H, D(daily), B, U\n",
    "\n",
    "1: W, M\n",
    "\n",
    "2: Q(quarterly), Y"
   ]
  },
  {
   "cell_type": "code",
   "execution_count": 6,
   "metadata": {},
   "outputs": [
    {
     "name": "stdout",
     "output_type": "stream",
     "text": [
      "Processing dataframe with multiple processes.\n",
      " See https://github.com/google-research/timesfm/blob/master/README.md for updated APIs.\n",
      "Loaded PyTorch TimesFM, likely because python version is 3.11.11 (main, Jan 27 2025, 15:58:08) [Clang 16.0.0 (clang-1600.0.26.6)].\n",
      "Finished preprocessing dataframe.\n",
      "Finished forecasting.\n",
      "    unique_id                        ds     timesfm  timesfm-q-0.1  \\\n",
      "0        TSLA 2024-12-31 00:00:00-05:00  424.419800     401.746826   \n",
      "1        TSLA 2025-01-01 00:00:00-05:00  427.736877     388.072937   \n",
      "2        TSLA 2025-01-02 00:00:00-05:00  427.912476     380.316162   \n",
      "3        TSLA 2025-01-03 00:00:00-05:00  428.294128     372.974060   \n",
      "4        TSLA 2025-01-04 00:00:00-05:00  427.122314     364.235168   \n",
      "..        ...                       ...         ...            ...   \n",
      "123      TSLA 2025-05-03 01:00:00-04:00  373.090820     139.941284   \n",
      "124      TSLA 2025-05-04 01:00:00-04:00  373.461121     141.332321   \n",
      "125      TSLA 2025-05-05 01:00:00-04:00  367.804199     139.340958   \n",
      "126      TSLA 2025-05-06 01:00:00-04:00  363.965088     133.386215   \n",
      "127      TSLA 2025-05-07 01:00:00-04:00  365.612793     133.763351   \n",
      "\n",
      "     timesfm-q-0.2  timesfm-q-0.3  timesfm-q-0.4  timesfm-q-0.5  \\\n",
      "0       411.815674     416.252319     421.486328     424.419800   \n",
      "1       403.625122     410.700867     420.115662     427.736877   \n",
      "2       400.012146     411.381287     417.370605     427.912476   \n",
      "3       394.350769     409.157471     421.041016     428.294128   \n",
      "4       389.019135     401.925659     415.243042     427.122314   \n",
      "..             ...            ...            ...            ...   \n",
      "123     224.536377     283.071838     328.047485     373.090820   \n",
      "124     223.599197     278.408997     325.556641     373.461121   \n",
      "125     217.859497     276.404968     323.019501     367.804199   \n",
      "126     218.432953     271.933899     323.492493     363.965088   \n",
      "127     216.155518     274.134888     322.009216     365.612793   \n",
      "\n",
      "     timesfm-q-0.6  timesfm-q-0.7  timesfm-q-0.8  timesfm-q-0.9  \n",
      "0       426.802490     430.147217     435.598694     440.832520  \n",
      "1       431.131531     437.405518     445.262817     457.323425  \n",
      "2       437.493347     443.181458     457.927246     475.177673  \n",
      "3       439.423950     448.189453     462.995544     483.505798  \n",
      "4       439.372192     450.147522     467.768188     491.369995  \n",
      "..             ...            ...            ...            ...  \n",
      "123     415.968079     463.193115     519.192566     614.309204  \n",
      "124     415.465332     459.763306     520.866638     611.580688  \n",
      "125     410.489319     458.613525     514.612000     608.506348  \n",
      "126     406.247681     456.213562     517.930237     607.040710  \n",
      "127     409.460327     459.800720     518.086487     608.834106  \n",
      "\n",
      "[128 rows x 12 columns]\n"
     ]
    }
   ],
   "source": [
    "#6. Build input dataframe for TimesFM\n",
    "# Create the dataframe in the format required by TimesFM\n",
    "input_df = pd.DataFrame({\n",
    "    \"unique_id\": [\"TSLA\"] * len(df),  # Use \"TSLA\" as the unique identifier\n",
    "    \"ds\": df[\"Date\"],                # Date column\n",
    "    \"y\": df[\"Close\"]                 # Closing price\n",
    "})\n",
    "\n",
    "\n",
    "# 7. Ensure y values are 1-dimensional\n",
    "# Flatten y to ensure it is a 1D array\n",
    "input_df[\"y\"] = input_df[\"y\"].values.flatten()\n",
    "\n",
    "\n",
    "# 8. Forecast using TimesFM\n",
    "# Pass the input dataframe to the TimesFM model for forecasting\n",
    "forecast_df = tfm.forecast_on_df(\n",
    "    inputs=input_df,  # Input dataframe\n",
    "    freq=\"D\",         # Daily frequency\n",
    "    value_name=\"y\",   # The column to predict\n",
    "    num_jobs=-1       # Use all available cores for parallel processing\n",
    ")\n",
    "\n",
    "# 7. Display forecast results\n",
    "print(forecast_df)\n"
   ]
  },
  {
   "cell_type": "markdown",
   "metadata": {},
   "source": [
    "# TimesFM Forecast Interpretation\n",
    "The forecast results include multiple columns that represent the predicted values and their uncertainty ranges. Here's how to interpret the key columns:\n",
    "\n",
    "\n",
    "- timesfm: Median prediction (most likely value).\n",
    "\n",
    "- timesfm-q-0.1: 10% quantile prediction (lower range of uncertainty).\n",
    "\n",
    "- timesfm-q-0.5: 50% quantile prediction (equivalent to timesfm median).\n",
    "\n",
    "- timesfm-q-0.9: 90% quantile prediction (higher range of uncertainty, if available).\n",
    "\n",
    "\n",
    "<Example Interpretation: > \n",
    "For a given date (e.g., 2025-01-28):\n",
    "\n",
    "- Median prediction (timesfm): 393.19 → The most likely stock price.\n",
    "\n",
    "- 10% quantile (timesfm-q-0.1): 371.13 → Lower bound of the range.\n",
    "\n",
    "- 50% quantile (timesfm-q-0.5): 393.19 → The central prediction (same as timesfm).\n",
    "\n",
    "- 90% quantile: (if present) Higher bound of the range."
   ]
  },
  {
   "cell_type": "code",
   "execution_count": 7,
   "metadata": {},
   "outputs": [],
   "source": [
    "df_2025 = GetTSLA.history(start=\"2025-01-01\", end=\"2025-12-31\")\n",
    "df_2025.reset_index(inplace=True)   # Reset index to make \"Date\" a column\n"
   ]
  },
  {
   "cell_type": "code",
   "execution_count": 17,
   "metadata": {},
   "outputs": [
    {
     "data": {
      "image/png": "[encoded data removed]",
      "text/plain": [
       "<Figure size 1200x400 with 1 Axes>"
      ]
     },
     "metadata": {},
     "output_type": "display_data"
    }
   ],
   "source": [
    "plt.figure(figsize=(12, 4))\n",
    "\n",
    "# Actual price (전체)\n",
    "plt.plot(df[\"Date\"], df[\"Close\"], label=\"Actual Price\", color=\"black\")\n",
    "\n",
    "# Median prediction\n",
    "plt.plot(forecast_df[\"ds\"], forecast_df[\"timesfm\"], label=\"Median Prediction\", color=\"blue\")\n",
    "\n",
    "# Prediction interval\n",
    "plt.fill_between(\n",
    "    forecast_df[\"ds\"],\n",
    "    forecast_df[\"timesfm-q-0.3\"],\n",
    "    forecast_df[\"timesfm-q-0.7\"],\n",
    "    color=\"blue\",\n",
    "    alpha=0.2,\n",
    "    label=\"30-70% Interval\"\n",
    ")\n",
    "\n",
    "# Actual price after forecast (2025)\n",
    "plt.plot(df_2025[\"Date\"], df_2025[\"Close\"], label=\"Actual 2025 Price\", color=\"red\", linestyle=\"--\")\n",
    "\n",
    "# x-axis range\n",
    "start_date = pd.to_datetime(\"2023-01-01\")\n",
    "end_date = forecast_df[\"ds\"].max()\n",
    "plt.xlim([start_date, end_date])\n",
    "\n",
    "plt.xlabel(\"Date\")\n",
    "plt.ylabel(\"Stock Price\")\n",
    "plt.title(\"Tesla Stock Price Forecast vs Actual (2025)\")\n",
    "plt.legend()\n",
    "plt.grid(True)\n",
    "plt.show()\n"
   ]
  },
  {
   "cell_type": "code",
   "execution_count": 18,
   "metadata": {},
   "outputs": [],
   "source": [
    "from sklearn.metrics import mean_absolute_error, mean_squared_error\n",
    "import numpy as np\n",
    "\n",
    "# 예측값과 실제값이 같은 날짜 기준으로 비교되도록 merge\n",
    "merged = pd.merge(\n",
    "    forecast_df,\n",
    "    df_2025,\n",
    "    left_on=\"ds\",     # 예측 결과 날짜\n",
    "    right_on=\"Date\"   # 실제 데이터 날짜\n",
    ")\n",
    "\n",
    "y_pred = merged[\"timesfm\"]\n",
    "y_true = merged[\"Close\"]\n",
    "\n",
    "# merged.head()\n"
   ]
  },
  {
   "cell_type": "code",
   "execution_count": 10,
   "metadata": {},
   "outputs": [
    {
     "name": "stdout",
     "output_type": "stream",
     "text": [
      "MAE:  39.17\n",
      "MSE:  2699.70\n",
      "RMSE: 51.96\n"
     ]
    }
   ],
   "source": [
    "# MAE\n",
    "mae = mean_absolute_error(y_true, y_pred)\n",
    "\n",
    "# MSE\n",
    "mse = mean_squared_error(y_true, y_pred)\n",
    "\n",
    "# RMSE\n",
    "rmse = np.sqrt(mse)\n",
    "\n",
    "print(f\"MAE:  {mae:.2f}\")\n",
    "print(f\"MSE:  {mse:.2f}\")\n",
    "print(f\"RMSE: {rmse:.2f}\")\n"
   ]
  },
  {
   "cell_type": "markdown",
   "metadata": {},
   "source": [
    "# Predicting Tomorrow's TSLA stock price"
   ]
  },
  {
   "cell_type": "code",
   "execution_count": 12,
   "metadata": {},
   "outputs": [
    {
     "name": "stdout",
     "output_type": "stream",
     "text": [
      "   unique_id                        ds     timesfm  timesfm-q-0.1  \\\n",
      "86      TSLA 2025-03-27 01:00:00-04:00  380.868469     174.604492   \n",
      "\n",
      "    timesfm-q-0.2  timesfm-q-0.3  timesfm-q-0.4  timesfm-q-0.5  timesfm-q-0.6  \\\n",
      "86     247.964783     296.630859     343.127747     380.868469     422.053955   \n",
      "\n",
      "    timesfm-q-0.7  timesfm-q-0.8  timesfm-q-0.9  \n",
      "86     465.782837     523.067627     605.293091  \n"
     ]
    }
   ],
   "source": [
    "from datetime import datetime, timedelta\n",
    "\n",
    "# Generate the next day's datetime\n",
    "today = datetime.today()\n",
    "tmr = (today + timedelta(days=1)).date()  \n",
    "\n",
    "# Ensure both tmr and forecast_df[\"ds\"] are datetime\n",
    "forecast_df[\"ds\"] = pd.to_datetime(forecast_df[\"ds\"])  # Convert to datetime\n",
    "filtered_df = forecast_df[forecast_df[\"ds\"].dt.date == tmr]  # Compare dates directly\n",
    "\n",
    "print(filtered_df)"
   ]
  },
  {
   "cell_type": "code",
   "execution_count": 13,
   "metadata": {},
   "outputs": [
    {
     "name": "stdout",
     "output_type": "stream",
     "text": [
      "2025-03-27\n"
     ]
    }
   ],
   "source": [
    "print(tmr)"
   ]
  },
  {
   "cell_type": "markdown",
   "metadata": {},
   "source": []
  }
 ],
 "metadata": {
  "kernelspec": {
   "display_name": "3.11.11",
   "language": "python",
   "name": "python3"
  },
  "language_info": {
   "codemirror_mode": {
    "name": "ipython",
    "version": 3
   },
   "file_extension": ".py",
   "mimetype": "text/x-python",
   "name": "python",
   "nbconvert_exporter": "python",
   "pygments_lexer": "ipython3",
   "version": "3.11.11"
  }
 },
 "nbformat": 4,
 "nbformat_minor": 2
}
