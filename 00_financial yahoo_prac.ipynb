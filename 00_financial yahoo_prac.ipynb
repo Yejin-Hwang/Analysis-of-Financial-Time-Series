{
 "cells": [
  {
   "cell_type": "markdown",
   "id": "1f5bdbd5",
   "metadata": {},
   "source": [
    "# Yahoo API practice"
   ]
  },
  {
   "cell_type": "markdown",
   "id": "a3b0c484",
   "metadata": {},
   "source": [
    "!pip install yfinance"
   ]
  },
  {
   "cell_type": "code",
   "execution_count": 2,
   "id": "1979dd7a",
   "metadata": {
    "scrolled": false
   },
   "outputs": [],
   "source": [
    "import yfinance as yahooFinance\n",
    "import matplotlib.pyplot as plt\n",
    "%matplotlib inline\n",
    "import numpy as np\n",
    "import pandas as pd\n",
    "#import randomness "
   ]
  },
  {
   "cell_type": "code",
   "execution_count": 3,
   "id": "bae2d720",
   "metadata": {},
   "outputs": [
    {
     "name": "stdout",
     "output_type": "stream",
     "text": [
      "{'address1': '1 Meta Way', 'city': 'Menlo Park', 'state': 'CA', 'zip': '94025', 'country': 'United States', 'phone': '650 543 4800', 'website': 'https://investor.atmeta.com', 'industry': 'Internet Content & Information', 'industryKey': 'internet-content-information', 'industryDisp': 'Internet Content & Information', 'sector': 'Communication Services', 'sectorKey': 'communication-services', 'sectorDisp': 'Communication Services', 'longBusinessSummary': 'Meta Platforms, Inc. engages in the development of products that enable people to connect and share with friends and family through mobile devices, personal computers, virtual reality and mixed reality headsets, augmented reality, and wearables worldwide. It operates through two segments, Family of Apps (FoA) and Reality Labs (RL). The FoA segment offers Facebook, which enables people to build community through feed, reels, stories, groups, marketplace, and other; Instagram that brings people closer through instagram feed, stories, reels, live, and messaging; Messenger, a messaging application for people to connect with friends, family, communities, and businesses across platforms and devices through text, audio, and video calls; Threads, an application for text-based updates and public conversations; and WhatsApp, a messaging application that is used by people and businesses to communicate and transact in a private way. The RL segment provides virtual, augmented, and mixed reality related products comprising consumer hardware, software, and content that help people feel connected, anytime, and anywhere. The company was formerly known as Facebook, Inc. and changed its name to Meta Platforms, Inc. in October 2021. The company was incorporated in 2004 and is headquartered in Menlo Park, California.', 'fullTimeEmployees': 74067, 'companyOfficers': [{'maxAge': 1, 'name': 'Mr. Mark Elliot Zuckerberg', 'age': 40, 'title': 'Founder, Chairman & CEO', 'yearBorn': 1984, 'fiscalYear': 2023, 'totalPay': 24399968, 'exercisedValue': 0, 'unexercisedValue': 0}, {'maxAge': 1, 'name': 'Ms. Susan J. S. Li', 'age': 38, 'title': 'Chief Financial Officer', 'yearBorn': 1986, 'fiscalYear': 2023, 'totalPay': 1963161, 'exercisedValue': 0, 'unexercisedValue': 0}, {'maxAge': 1, 'name': 'Mr. Javier  Olivan', 'age': 47, 'title': 'Chief Operating Officer', 'yearBorn': 1977, 'fiscalYear': 2023, 'totalPay': 4065442, 'exercisedValue': 0, 'unexercisedValue': 0}, {'maxAge': 1, 'name': 'Mr. Christopher K. Cox', 'age': 41, 'title': 'Chief Product Officer', 'yearBorn': 1983, 'fiscalYear': 2023, 'totalPay': 2013913, 'exercisedValue': 0, 'unexercisedValue': 0}, {'maxAge': 1, 'name': 'Mr. Aaron A. Anderson', 'title': 'Chief Accounting Officer', 'fiscalYear': 2023, 'exercisedValue': 0, 'unexercisedValue': 0}, {'maxAge': 1, 'name': 'Mr. Atish  Banerjea', 'age': 58, 'title': 'Chief Information Officer', 'yearBorn': 1966, 'fiscalYear': 2023, 'exercisedValue': 0, 'unexercisedValue': 0}, {'maxAge': 1, 'name': 'Mr. Henry T. A. Moniz', 'age': 59, 'title': 'Chief Compliance Officer', 'yearBorn': 1965, 'fiscalYear': 2023, 'exercisedValue': 0, 'unexercisedValue': 0}, {'maxAge': 1, 'name': 'Mr. Alexander P. Schultz', 'age': 41, 'title': 'Chief Marketing Officer and VP of Product, Growth, Analytics & Internationalization', 'yearBorn': 1983, 'fiscalYear': 2023, 'exercisedValue': 0, 'unexercisedValue': 0}, {'maxAge': 1, 'name': 'Ms. Janelle  Gale', 'title': 'Head of People', 'fiscalYear': 2023, 'exercisedValue': 0, 'unexercisedValue': 0}, {'maxAge': 1, 'name': 'Ms. Erin  Egan', 'title': 'Chief Privacy Officer & VP of U.S. Public Policy', 'fiscalYear': 2023, 'exercisedValue': 0, 'unexercisedValue': 0}], 'auditRisk': 10, 'boardRisk': 10, 'compensationRisk': 10, 'shareHolderRightsRisk': 10, 'overallRisk': 10, 'governanceEpochDate': 1740787200, 'compensationAsOfEpochDate': 1703980800, 'executiveTeam': [], 'maxAge': 86400, 'priceHint': 2, 'previousClose': 610.98, 'open': 601.25, 'dayLow': 600.1, 'dayHigh': 614.25, 'regularMarketPreviousClose': 610.98, 'regularMarketOpen': 601.25, 'regularMarketDayLow': 600.1, 'regularMarketDayHigh': 614.25, 'dividendRate': 2.1, 'dividendYield': 0.34, 'exDividendDate': 1741910400, 'payoutRatio': 0.0838, 'beta': 1.231, 'trailingPE': 25.517519, 'forwardPE': 24.095396, 'volume': 4489278, 'regularMarketVolume': 4489278, 'averageVolume': 15994166, 'averageVolume10days': 17816990, 'averageDailyVolume10Day': 17816990, 'bid': 608.78, 'ask': 610.88, 'bidSize': 1, 'askSize': 1, 'marketCap': 1544553365504, 'fiftyTwoWeekLow': 414.5, 'fiftyTwoWeekHigh': 740.91, 'priceToSalesTrailing12Months': 9.389325, 'fiftyDayAverage': 653.3536, 'twoHundredDayAverage': 575.1055, 'trailingAnnualDividendRate': 2.0, 'trailingAnnualDividendYield': 0.0032734296, 'currency': 'USD', 'tradeable': False, 'enterpriseValue': 1519969107968, 'profitMargins': 0.37909, 'floatShares': 2185534482, 'sharesOutstanding': 2189900032, 'sharesShort': 24545066, 'sharesShortPriorMonth': 27482134, 'sharesShortPreviousMonthDate': 1739491200, 'dateShortInterest': 1741910400, 'sharesPercentSharesOut': 0.0097, 'heldPercentInsiders': 0.00158, 'heldPercentInstitutions': 0.79314005, 'shortRatio': 1.49, 'shortPercentOfFloat': 0.0112, 'impliedSharesOutstanding': 2533659904, 'bookValue': 72.075, 'priceToBook': 8.458044, 'lastFiscalYearEnd': 1735603200, 'nextFiscalYearEnd': 1767139200, 'mostRecentQuarter': 1735603200, 'earningsQuarterlyGrowth': 0.487, 'netIncomeToCommon': 62359998464, 'trailingEps': 23.89, 'forwardEps': 25.3, 'enterpriseToRevenue': 9.24, 'enterpriseToEbitda': 18.156, '52WeekChange': 0.25824785, 'SandP52WeekChange': 0.08713734, 'lastDividendValue': 0.525, 'lastDividendDate': 1741910400, 'quoteType': 'EQUITY', 'currentPrice': 609.6135, 'targetHighPrice': 935.0, 'targetLowPrice': 505.0, 'targetMeanPrice': 765.0731, 'targetMedianPrice': 775.0, 'recommendationMean': 1.49206, 'recommendationKey': 'strong_buy', 'numberOfAnalystOpinions': 58, 'totalCash': 77814996992, 'totalCashPerShare': 30.712, 'ebitda': 83716997120, 'totalDebt': 49769000960, 'quickRatio': 2.822, 'currentRatio': 2.978, 'totalRevenue': 164500996096, 'debtToEquity': 27.25, 'revenuePerShare': 64.918, 'returnOnAssets': 0.16863, 'returnOnEquity': 0.37140998, 'grossProfits': 134371000320, 'freeCashflow': 36095000576, 'operatingCashflow': 91328004096, 'earningsGrowth': 0.514, 'revenueGrowth': 0.206, 'grossMargins': 0.81684, 'ebitdaMargins': 0.50891, 'operatingMargins': 0.45278, 'financialCurrency': 'USD', 'symbol': 'META', 'language': 'en-US', 'region': 'US', 'typeDisp': 'Equity', 'quoteSourceName': 'Nasdaq Real Time Price', 'triggerable': True, 'customPriceAlertConfidence': 'HIGH', 'corporateActions': [], 'regularMarketTime': 1743089494, 'exchange': 'NMS', 'messageBoardId': 'finmb_20765463', 'exchangeTimezoneName': 'America/New_York', 'exchangeTimezoneShortName': 'EDT', 'gmtOffSetMilliseconds': -14400000, 'market': 'us_market', 'esgPopulated': False, 'longName': 'Meta Platforms, Inc.', 'shortName': 'Meta Platforms, Inc.', 'regularMarketChangePercent': -0.22364973, 'regularMarketPrice': 609.6135, 'marketState': 'REGULAR', 'hasPrePostMarketData': True, 'firstTradeDateMilliseconds': 1337347800000, 'regularMarketChange': -1.3664551, 'regularMarketDayRange': '600.1 - 614.25', 'fullExchangeName': 'NasdaqGS', 'averageDailyVolume3Month': 15994166, 'fiftyTwoWeekLowChange': 195.11353, 'fiftyTwoWeekLowChangePercent': 0.4707202, 'fiftyTwoWeekRange': '414.5 - 740.91', 'fiftyTwoWeekHighChange': -131.29645, 'fiftyTwoWeekHighChangePercent': -0.17720972, 'fiftyTwoWeekChangePercent': 25.824785, 'dividendDate': 1742947200, 'earningsTimestamp': 1738186806, 'earningsTimestampStart': 1745319540, 'earningsTimestampEnd': 1745841600, 'earningsCallTimestampStart': 1738188000, 'earningsCallTimestampEnd': 1738188000, 'isEarningsDateEstimate': True, 'epsTrailingTwelveMonths': 23.89, 'epsForward': 25.3, 'epsCurrentYear': 25.35174, 'priceEpsCurrentYear': 24.04622, 'fiftyDayAverageChange': -43.74005, 'fiftyDayAverageChangePercent': -0.06694698, 'twoHundredDayAverageChange': 34.507996, 'twoHundredDayAverageChangePercent': 0.060002893, 'sourceInterval': 15, 'exchangeDataDelayedBy': 0, 'ipoExpectedDate': '2022-06-09', 'prevName': 'Facebook, Inc.', 'nameChangeDate': '2025-03-26', 'averageAnalystRating': '1.5 - Strong Buy', 'cryptoTradeable': False, 'displayName': 'Meta Platforms', 'trailingPegRatio': 1.2263}\n"
     ]
    }
   ],
   "source": [
    "# Here We are getting Facebook financial information\n",
    "# We need to pass FB as argument for that\n",
    "GetFacebookInformation = yahooFinance.Ticker(\"META\")\n",
    "GetAmazonInformation = yahooFinance.Ticker(\"AMZN\")\n",
    "GetGoogleInformation = yahooFinance.Ticker(\"GOOGL\")\n",
    "\n",
    "# whole python dictionary is printed here\n",
    "print(GetFacebookInformation.info)\n",
    "\n",
    "# for key, value in GetFacebookInformation.info.items():\n",
    "#     print(key, \":\", value)"
   ]
  },
  {
   "cell_type": "code",
   "execution_count": 4,
   "id": "4b1b3ec0",
   "metadata": {},
   "outputs": [
    {
     "data": {
      "text/html": [
       "<div>\n",
       "<style scoped>\n",
       "    .dataframe tbody tr th:only-of-type {\n",
       "        vertical-align: middle;\n",
       "    }\n",
       "\n",
       "    .dataframe tbody tr th {\n",
       "        vertical-align: top;\n",
       "    }\n",
       "\n",
       "    .dataframe thead th {\n",
       "        text-align: right;\n",
       "    }\n",
       "</style>\n",
       "<table border=\"1\" class=\"dataframe\">\n",
       "  <thead>\n",
       "    <tr style=\"text-align: right;\">\n",
       "      <th></th>\n",
       "      <th>Open</th>\n",
       "      <th>High</th>\n",
       "      <th>Low</th>\n",
       "      <th>Close</th>\n",
       "      <th>Volume</th>\n",
       "      <th>Dividends</th>\n",
       "      <th>Stock Splits</th>\n",
       "    </tr>\n",
       "    <tr>\n",
       "      <th>Date</th>\n",
       "      <th></th>\n",
       "      <th></th>\n",
       "      <th></th>\n",
       "      <th></th>\n",
       "      <th></th>\n",
       "      <th></th>\n",
       "      <th></th>\n",
       "    </tr>\n",
       "  </thead>\n",
       "  <tbody>\n",
       "    <tr>\n",
       "      <th>2025-03-27 00:00:00-04:00</th>\n",
       "      <td>601.250000</td>\n",
       "      <td>614.250000</td>\n",
       "      <td>600.099976</td>\n",
       "      <td>609.613525</td>\n",
       "      <td>4489278</td>\n",
       "      <td>0.0</td>\n",
       "      <td>0.0</td>\n",
       "    </tr>\n",
       "    <tr>\n",
       "      <th>2025-03-26 00:00:00-04:00</th>\n",
       "      <td>624.890015</td>\n",
       "      <td>626.750000</td>\n",
       "      <td>606.609985</td>\n",
       "      <td>610.979980</td>\n",
       "      <td>12609800</td>\n",
       "      <td>0.0</td>\n",
       "      <td>0.0</td>\n",
       "    </tr>\n",
       "    <tr>\n",
       "      <th>2025-03-25 00:00:00-04:00</th>\n",
       "      <td>626.760010</td>\n",
       "      <td>633.880005</td>\n",
       "      <td>621.179993</td>\n",
       "      <td>626.309998</td>\n",
       "      <td>15312500</td>\n",
       "      <td>0.0</td>\n",
       "      <td>0.0</td>\n",
       "    </tr>\n",
       "  </tbody>\n",
       "</table>\n",
       "</div>"
      ],
      "text/plain": [
       "                                 Open        High         Low       Close  \\\n",
       "Date                                                                        \n",
       "2025-03-27 00:00:00-04:00  601.250000  614.250000  600.099976  609.613525   \n",
       "2025-03-26 00:00:00-04:00  624.890015  626.750000  606.609985  610.979980   \n",
       "2025-03-25 00:00:00-04:00  626.760010  633.880005  621.179993  626.309998   \n",
       "\n",
       "                             Volume  Dividends  Stock Splits  \n",
       "Date                                                          \n",
       "2025-03-27 00:00:00-04:00   4489278        0.0           0.0  \n",
       "2025-03-26 00:00:00-04:00  12609800        0.0           0.0  \n",
       "2025-03-25 00:00:00-04:00  15312500        0.0           0.0  "
      ]
     },
     "execution_count": 4,
     "metadata": {},
     "output_type": "execute_result"
    }
   ],
   "source": [
    "facebook_data=GetFacebookInformation.history(period=\"max\")\n",
    "facebook_data.head(3) #pandas dataframe\n",
    "facebook_data.sort_values(\"Date\", ascending=False).head(3)"
   ]
  },
  {
   "cell_type": "code",
   "execution_count": 5,
   "id": "2b0fe3ea",
   "metadata": {},
   "outputs": [
    {
     "data": {
      "text/html": [
       "<div>\n",
       "<style scoped>\n",
       "    .dataframe tbody tr th:only-of-type {\n",
       "        vertical-align: middle;\n",
       "    }\n",
       "\n",
       "    .dataframe tbody tr th {\n",
       "        vertical-align: top;\n",
       "    }\n",
       "\n",
       "    .dataframe thead th {\n",
       "        text-align: right;\n",
       "    }\n",
       "</style>\n",
       "<table border=\"1\" class=\"dataframe\">\n",
       "  <thead>\n",
       "    <tr style=\"text-align: right;\">\n",
       "      <th></th>\n",
       "      <th>Open</th>\n",
       "      <th>High</th>\n",
       "      <th>Low</th>\n",
       "      <th>Close</th>\n",
       "      <th>Volume</th>\n",
       "      <th>Dividends</th>\n",
       "      <th>Stock Splits</th>\n",
       "    </tr>\n",
       "    <tr>\n",
       "      <th>Date</th>\n",
       "      <th></th>\n",
       "      <th></th>\n",
       "      <th></th>\n",
       "      <th></th>\n",
       "      <th></th>\n",
       "      <th></th>\n",
       "      <th></th>\n",
       "    </tr>\n",
       "  </thead>\n",
       "  <tbody>\n",
       "    <tr>\n",
       "      <th>2025-03-27 00:00:00-04:00</th>\n",
       "      <td>200.875000</td>\n",
       "      <td>203.789993</td>\n",
       "      <td>199.282104</td>\n",
       "      <td>202.384995</td>\n",
       "      <td>10445290</td>\n",
       "      <td>0.0</td>\n",
       "      <td>0.0</td>\n",
       "    </tr>\n",
       "    <tr>\n",
       "      <th>2025-03-26 00:00:00-04:00</th>\n",
       "      <td>205.839996</td>\n",
       "      <td>206.009995</td>\n",
       "      <td>199.929993</td>\n",
       "      <td>201.130005</td>\n",
       "      <td>32855300</td>\n",
       "      <td>0.0</td>\n",
       "      <td>0.0</td>\n",
       "    </tr>\n",
       "    <tr>\n",
       "      <th>2025-03-25 00:00:00-04:00</th>\n",
       "      <td>203.600006</td>\n",
       "      <td>206.210007</td>\n",
       "      <td>203.220001</td>\n",
       "      <td>205.710007</td>\n",
       "      <td>31171200</td>\n",
       "      <td>0.0</td>\n",
       "      <td>0.0</td>\n",
       "    </tr>\n",
       "  </tbody>\n",
       "</table>\n",
       "</div>"
      ],
      "text/plain": [
       "                                 Open        High         Low       Close  \\\n",
       "Date                                                                        \n",
       "2025-03-27 00:00:00-04:00  200.875000  203.789993  199.282104  202.384995   \n",
       "2025-03-26 00:00:00-04:00  205.839996  206.009995  199.929993  201.130005   \n",
       "2025-03-25 00:00:00-04:00  203.600006  206.210007  203.220001  205.710007   \n",
       "\n",
       "                             Volume  Dividends  Stock Splits  \n",
       "Date                                                          \n",
       "2025-03-27 00:00:00-04:00  10445290        0.0           0.0  \n",
       "2025-03-26 00:00:00-04:00  32855300        0.0           0.0  \n",
       "2025-03-25 00:00:00-04:00  31171200        0.0           0.0  "
      ]
     },
     "execution_count": 5,
     "metadata": {},
     "output_type": "execute_result"
    }
   ],
   "source": [
    "amazon_data=GetAmazonInformation.history(period=\"max\")\n",
    "amazon_data.head(3)\n",
    "amazon_data.sort_values(\"Date\", ascending=False).head(3)"
   ]
  },
  {
   "cell_type": "code",
   "execution_count": 6,
   "id": "de8bb699",
   "metadata": {},
   "outputs": [
    {
     "data": {
      "text/html": [
       "<div>\n",
       "<style scoped>\n",
       "    .dataframe tbody tr th:only-of-type {\n",
       "        vertical-align: middle;\n",
       "    }\n",
       "\n",
       "    .dataframe tbody tr th {\n",
       "        vertical-align: top;\n",
       "    }\n",
       "\n",
       "    .dataframe thead th {\n",
       "        text-align: right;\n",
       "    }\n",
       "</style>\n",
       "<table border=\"1\" class=\"dataframe\">\n",
       "  <thead>\n",
       "    <tr style=\"text-align: right;\">\n",
       "      <th></th>\n",
       "      <th>Open</th>\n",
       "      <th>High</th>\n",
       "      <th>Low</th>\n",
       "      <th>Close</th>\n",
       "      <th>Volume</th>\n",
       "      <th>Dividends</th>\n",
       "      <th>Stock Splits</th>\n",
       "    </tr>\n",
       "    <tr>\n",
       "      <th>Date</th>\n",
       "      <th></th>\n",
       "      <th></th>\n",
       "      <th></th>\n",
       "      <th></th>\n",
       "      <th></th>\n",
       "      <th></th>\n",
       "      <th></th>\n",
       "    </tr>\n",
       "  </thead>\n",
       "  <tbody>\n",
       "    <tr>\n",
       "      <th>2025-03-27 00:00:00-04:00</th>\n",
       "      <td>164.639999</td>\n",
       "      <td>165.410004</td>\n",
       "      <td>163.610001</td>\n",
       "      <td>163.679993</td>\n",
       "      <td>7674682</td>\n",
       "      <td>0.0</td>\n",
       "      <td>0.0</td>\n",
       "    </tr>\n",
       "    <tr>\n",
       "      <th>2025-03-26 00:00:00-04:00</th>\n",
       "      <td>169.000000</td>\n",
       "      <td>169.610001</td>\n",
       "      <td>164.839996</td>\n",
       "      <td>165.059998</td>\n",
       "      <td>28901600</td>\n",
       "      <td>0.0</td>\n",
       "      <td>0.0</td>\n",
       "    </tr>\n",
       "    <tr>\n",
       "      <th>2025-03-25 00:00:00-04:00</th>\n",
       "      <td>168.979996</td>\n",
       "      <td>170.630005</td>\n",
       "      <td>168.320007</td>\n",
       "      <td>170.559998</td>\n",
       "      <td>24174400</td>\n",
       "      <td>0.0</td>\n",
       "      <td>0.0</td>\n",
       "    </tr>\n",
       "  </tbody>\n",
       "</table>\n",
       "</div>"
      ],
      "text/plain": [
       "                                 Open        High         Low       Close  \\\n",
       "Date                                                                        \n",
       "2025-03-27 00:00:00-04:00  164.639999  165.410004  163.610001  163.679993   \n",
       "2025-03-26 00:00:00-04:00  169.000000  169.610001  164.839996  165.059998   \n",
       "2025-03-25 00:00:00-04:00  168.979996  170.630005  168.320007  170.559998   \n",
       "\n",
       "                             Volume  Dividends  Stock Splits  \n",
       "Date                                                          \n",
       "2025-03-27 00:00:00-04:00   7674682        0.0           0.0  \n",
       "2025-03-26 00:00:00-04:00  28901600        0.0           0.0  \n",
       "2025-03-25 00:00:00-04:00  24174400        0.0           0.0  "
      ]
     },
     "execution_count": 6,
     "metadata": {},
     "output_type": "execute_result"
    }
   ],
   "source": [
    "google_data=GetGoogleInformation.history(period=\"max\")\n",
    "google_data.head(3)\n",
    "google_data.sort_values(\"Date\", ascending=False).head(3)"
   ]
  },
  {
   "cell_type": "code",
   "execution_count": 7,
   "id": "837044fd",
   "metadata": {
    "scrolled": true
   },
   "outputs": [
    {
     "data": {
      "text/plain": [
       "49.18098826048975"
      ]
     },
     "execution_count": 7,
     "metadata": {},
     "output_type": "execute_result"
    }
   ],
   "source": [
    "google_data['Open'].sum()\n",
    "google_data['Open'].mean()"
   ]
  },
  {
   "cell_type": "markdown",
   "id": "8e102062",
   "metadata": {},
   "source": [
    "numpy random\n",
    "np.random.normal\n",
    "https://www.geeksforgeeks.org/get-financial-data-from-yahoo-finance-with-python/"
   ]
  },
  {
   "cell_type": "markdown",
   "id": "3e3b3d63",
   "metadata": {},
   "source": [
    "### Pick any 3 stocks of your choice and pull the data from yahoo finance. Compute the summary statistics for these stocks (Start, size, mean, standard deviation, skewness, kurtosis, max and min)."
   ]
  },
  {
   "cell_type": "code",
   "execution_count": 8,
   "id": "5c02d98e",
   "metadata": {},
   "outputs": [
    {
     "name": "stdout",
     "output_type": "stream",
     "text": [
      "193.05393590292545\n"
     ]
    }
   ],
   "source": [
    "average_price = facebook_data[['Open', 'High', 'Low', 'Close']].mean(axis=1).mean()\n",
    "print(average_price)"
   ]
  },
  {
   "cell_type": "code",
   "execution_count": 9,
   "id": "0035afc2",
   "metadata": {},
   "outputs": [
    {
     "name": "stdout",
     "output_type": "stream",
     "text": [
      "            Statistic                      Value     Stock\n",
      "0          Start Date  2012-05-18 00:00:00-04:00  Facebook\n",
      "1           Last Date  2025-03-27 00:00:00-04:00  Facebook\n",
      "2                Size                       3233  Facebook\n",
      "3                Mean                     193.03  Facebook\n",
      "4  Standard Deviation                     142.66  Facebook\n",
      "5            Skewness                       1.35  Facebook\n",
      "6            Kurtosis                       1.63  Facebook\n",
      "7                 Max                     735.35  Facebook\n",
      "8                 Min                      18.00  Facebook\n",
      "0          Start Date  1997-05-15 00:00:00-04:00    Amazon\n",
      "1           Last Date  2025-03-27 00:00:00-04:00    Amazon\n",
      "2                Size                       7011    Amazon\n",
      "3                Mean                      41.25    Amazon\n",
      "4  Standard Deviation                      58.81    Amazon\n",
      "5            Skewness                       1.43    Amazon\n",
      "6            Kurtosis                       0.73    Amazon\n",
      "7                 Max                     239.02    Amazon\n",
      "8                 Min                       0.07    Amazon\n",
      "0          Start Date  2004-08-19 00:00:00-04:00    Google\n",
      "1           Last Date  2025-03-27 00:00:00-04:00    Google\n",
      "2                Size                       5185    Google\n",
      "3                Mean                      49.18    Google\n",
      "4  Standard Deviation                      47.81    Google\n",
      "5            Skewness                       1.26    Google\n",
      "6            Kurtosis                       0.52    Google\n",
      "7                 Max                     203.16    Google\n",
      "8                 Min                       2.47    Google\n"
     ]
    }
   ],
   "source": [
    "# stock list\n",
    "stock_data = {\n",
    "    'Facebook': facebook_data,\n",
    "    'Amazon': amazon_data,\n",
    "    'Google': google_data\n",
    "}\n",
    "\n",
    "summary_list = []\n",
    "\n",
    "for stock_name, data in stock_data.items():\n",
    "    stats = {\n",
    "        'Statistic': ['Start Date', 'Last Date', 'Size', 'Mean', 'Standard Deviation', 'Skewness', 'Kurtosis', 'Max', 'Min'],\n",
    "        'Value': [\n",
    "            data.index[0],  \n",
    "            data.index[-1],  \n",
    "            data['Open'].size,  \n",
    "            data['Open'].mean(),  \n",
    "            data['Open'].std(), \n",
    "            data['Open'].skew(),  \n",
    "            data['Open'].kurt(), \n",
    "            data['Open'].max(), \n",
    "            data['Open'].min()  \n",
    "        ]\n",
    "    }\n",
    "    \n",
    "    # convert to DataFrame and add to the lsit \n",
    "    summary_df = pd.DataFrame(stats)\n",
    "    summary_df['Stock'] = stock_name  \n",
    "    summary_list.append(summary_df)\n",
    "\n",
    "combined_summary = pd.concat(summary_list)\n",
    "\n",
    "pd.options.display.float_format = '{:.2f}'.format\n",
    "print(combined_summary)\n"
   ]
  },
  {
   "cell_type": "code",
   "execution_count": 10,
   "id": "4907a72b",
   "metadata": {},
   "outputs": [
    {
     "name": "stdout",
     "output_type": "stream",
     "text": [
      "Mean:  193.03308084466943\n",
      "193.05393590292545\n",
      "1. Facebook summary statistics\n",
      "            Statistic                      Value\n",
      "0          Start Date  2012-05-18 00:00:00-04:00\n",
      "1           Last Date  2025-03-27 00:00:00-04:00\n",
      "2                Size                       3233\n",
      "3                Mean                     193.03\n",
      "4  Standard Deviation                     142.66\n",
      "5            Skewness                       1.35\n",
      "6            Kurtosis                       1.63\n",
      "7                 Max                     735.35\n",
      "8                 Min                      18.00\n",
      "2. Amazon summary statistics\n",
      "            Statistic                      Value\n",
      "0          Start Date  1997-05-15 00:00:00-04:00\n",
      "1           Last Date  2025-03-27 00:00:00-04:00\n",
      "2                Size                       7011\n",
      "3                Mean                      41.25\n",
      "4  Standard Deviation                      58.81\n",
      "5            Skewness                       1.43\n",
      "6            Kurtosis                       0.73\n",
      "7                 Max                     239.02\n",
      "8                 Min                       0.07\n"
     ]
    }
   ],
   "source": [
    "# ### Pick any 3 stocks of your choice and pull the data from yahoo finance.\n",
    "# Compute the summary statistics for these stocks (Start, size, mean, standard deviation, skewness, kurtosis, max and min). \n",
    "\n",
    "#compute the summary statistics for these stocks (Start, size, mean, standard deviation, skewness, kurtosis, max and min).\n",
    "\n",
    "#1. Facebook summary statistics\n",
    "\n",
    "print(\"Mean: \", facebook_data['Open'].mean())\n",
    "average_price = facebook_data[['Open', 'High', 'Low', 'Close']].mean(axis=1).mean()\n",
    "print(average_price)\n",
    "\n",
    "\n",
    "\n",
    "\n",
    "print(\"1. Facebook summary statistics\") \n",
    "# dictionary\n",
    "summary_stats = {\n",
    "    'Statistic': ['Start Date', 'Last Date', 'Size', 'Mean', 'Standard Deviation', 'Skewness', 'Kurtosis', 'Max', 'Min'],\n",
    "    'Value': [\n",
    "        facebook_data.index[0],\n",
    "        facebook_data.index[-1],\n",
    "        facebook_data['Open'].size,\n",
    "        facebook_data['Open'].mean(),\n",
    "        facebook_data['Open'].std(),\n",
    "        facebook_data['Open'].skew(),\n",
    "        facebook_data['Open'].kurt(),\n",
    "        facebook_data['Open'].max(),\n",
    "        facebook_data['Open'].min()\n",
    "    ]\n",
    "}\n",
    "\n",
    "# convert to pandas DataFrame\n",
    "summary_table = pd.DataFrame(summary_stats)\n",
    "print(summary_table)\n",
    "\n",
    "\n",
    "# 2. Amazon\n",
    "\n",
    "print(\"2. Amazon summary statistics\") \n",
    "# dictionary\n",
    "summary_stats = {\n",
    "    'Statistic': ['Start Date', 'Last Date', 'Size', 'Mean', 'Standard Deviation', 'Skewness', 'Kurtosis', 'Max', 'Min'],\n",
    "    'Value': [\n",
    "        amazon_data.index[0],\n",
    "        amazon_data.index[-1],\n",
    "        amazon_data['Open'].size,\n",
    "        amazon_data['Open'].mean(),\n",
    "        amazon_data['Open'].std(),\n",
    "        amazon_data['Open'].skew(),\n",
    "        amazon_data['Open'].kurt(),\n",
    "        amazon_data['Open'].max(),\n",
    "        amazon_data['Open'].min()\n",
    "    ]\n",
    "}\n",
    "\n",
    "# convert to pandas DataFrame\n",
    "summary_table = pd.DataFrame(summary_stats)\n",
    "print(summary_table)\n",
    "\n",
    "\n",
    "#  3. Google\n",
    "\n",
    "#4. Summary Statistics\n",
    "\n",
    "# ### 5. Plot the data for these stocks\n",
    "\n",
    "# ### 6. Compute the correlation matrix for these stocks\n",
    "\n",
    "# ### 7. Compute the covariance matrix for these stocks\n",
    "\n",
    "\n"
   ]
  },
  {
   "cell_type": "markdown",
   "id": "87bb5a4d",
   "metadata": {},
   "source": [
    "### Plot of simple return and log returns for one of the stocks"
   ]
  },
  {
   "cell_type": "code",
   "execution_count": 11,
   "id": "4216748d",
   "metadata": {},
   "outputs": [
    {
     "data": {
      "image/png": "[encoded data removed]",
      "text/plain": [
       "<Figure size 1000x500 with 1 Axes>"
      ]
     },
     "metadata": {},
     "output_type": "display_data"
    },
    {
     "data": {
      "image/png": "[encoded data removed]",
      "text/plain": [
       "<Figure size 1000x500 with 1 Axes>"
      ]
     },
     "metadata": {},
     "output_type": "display_data"
    }
   ],
   "source": [
    "# plot the simple return and log returns for the \"facebook\" stocks\n",
    "\n",
    "#definition of simple return \n",
    "def simple_return(data):\n",
    "    simple_return = (data/data.shift(1)) - 1\n",
    "    return simple_return\n",
    "\n",
    "#definition of log return \n",
    "def log_return(data):\n",
    "    log_return = np.log(data/data.shift(1))\n",
    "    return log_return\n",
    "\n",
    "#plot the simple return and log returns for the stocks\n",
    "simple_return(facebook_data['Close']).plot(figsize=(10,5))\n",
    "plt.show()\n",
    "log_return(facebook_data['Close']).plot(figsize=(10,5))\n",
    "plt.show()\n",
    "\n",
    "\n"
   ]
  },
  {
   "cell_type": "markdown",
   "id": "cf1a730f",
   "metadata": {},
   "source": [
    "https://numpy.org/doc/stable/reference/random/generated/numpy.random.normal.html"
   ]
  }
 ],
 "metadata": {
  "kernelspec": {
   "display_name": "Python (pyenv 3.11.11)",
   "language": "python",
   "name": "pyenv_3.11.11"
  },
  "language_info": {
   "codemirror_mode": {
    "name": "ipython",
    "version": 3
   },
   "file_extension": ".py",
   "mimetype": "text/x-python",
   "name": "python",
   "nbconvert_exporter": "python",
   "pygments_lexer": "ipython3",
   "version": "3.11.11"
  }
 },
 "nbformat": 4,
 "nbformat_minor": 5
}
