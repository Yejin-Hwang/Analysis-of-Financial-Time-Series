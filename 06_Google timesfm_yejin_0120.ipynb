{
 "cells": [
  {
   "cell_type": "markdown",
   "metadata": {},
   "source": [
    "# Google TimesFM model for predict today's tesla stock price (yejin)\n",
    "\n",
    "- TimesFM (Time Series Foundation Model)\n",
    "- reference \n",
    ": https://huggingface.co/google/timesfm-1.0-200m\n",
    "\n",
    "* used python 3.11.11 in jupyter kernel on my mac"
   ]
  },
  {
   "cell_type": "code",
   "execution_count": 1,
   "metadata": {},
   "outputs": [],
   "source": [
    "import pandas as pd\n",
    "import numpy as np\n",
    "import matplotlib.pyplot as plt\n",
    "import yfinance as yf\n",
    "from time import time\n",
    "from datetime import date\n",
    "import warnings\n",
    "warnings.filterwarnings(\"ignore\")"
   ]
  },
  {
   "cell_type": "code",
   "execution_count": 3,
   "metadata": {},
   "outputs": [
    {
     "name": "stdout",
     "output_type": "stream",
     "text": [
      " See https://github.com/google-research/timesfm/blob/master/README.md for updated APIs.\n",
      "Loaded PyTorch TimesFM, likely because python version is 3.11.11 (main, Jan 27 2025, 15:58:08) [Clang 16.0.0 (clang-1600.0.26.6)].\n"
     ]
    },
    {
     "data": {
      "application/vnd.jupyter.widget-view+json": {
       "model_id": "c58d695d165a4e2992f2582e2234bcab",
       "version_major": 2,
       "version_minor": 0
      },
      "text/plain": [
       "Fetching 5 files:   0%|          | 0/5 [00:00<?, ?it/s]"
      ]
     },
     "metadata": {},
     "output_type": "display_data"
    }
   ],
   "source": [
    "import timesfm\n",
    "# For Torch\n",
    "tfm = timesfm.TimesFm(\n",
    "      hparams=timesfm.TimesFmHparams(\n",
    "          backend=\"gpu\",\n",
    "          per_core_batch_size=32,\n",
    "          horizon_len=128,\n",
    "          num_layers=50,\n",
    "          use_positional_embedding=False,\n",
    "          context_len=2048,\n",
    "      ),\n",
    "      checkpoint=timesfm.TimesFmCheckpoint(\n",
    "          huggingface_repo_id=\"google/timesfm-2.0-500m-pytorch\"),\n",
    "  )"
   ]
  },
  {
   "cell_type": "code",
   "execution_count": 4,
   "metadata": {},
   "outputs": [
    {
     "data": {
      "application/vnd.jupyter.widget-view+json": {
       "model_id": "31183341879a4d7992dc390686a508d7",
       "version_major": 2,
       "version_minor": 0
      },
      "text/plain": [
       "Fetching 3 files:   0%|          | 0/3 [00:00<?, ?it/s]"
      ]
     },
     "metadata": {},
     "output_type": "display_data"
    }
   ],
   "source": [
    "# For Torch\n",
    "tfm = timesfm.TimesFm(\n",
    "      hparams=timesfm.TimesFmHparams(\n",
    "          backend=\"gpu\",\n",
    "          per_core_batch_size=32,\n",
    "          horizon_len=128,\n",
    "      ),\n",
    "      checkpoint=timesfm.TimesFmCheckpoint(\n",
    "          huggingface_repo_id=\"google/timesfm-1.0-200m-pytorch\"),\n",
    "  )"
   ]
  },
  {
   "cell_type": "code",
   "execution_count": 5,
   "metadata": {},
   "outputs": [
    {
     "data": {
      "text/html": [
       "<div>\n",
       "<style scoped>\n",
       "    .dataframe tbody tr th:only-of-type {\n",
       "        vertical-align: middle;\n",
       "    }\n",
       "\n",
       "    .dataframe tbody tr th {\n",
       "        vertical-align: top;\n",
       "    }\n",
       "\n",
       "    .dataframe thead th {\n",
       "        text-align: right;\n",
       "    }\n",
       "</style>\n",
       "<table border=\"1\" class=\"dataframe\">\n",
       "  <thead>\n",
       "    <tr style=\"text-align: right;\">\n",
       "      <th></th>\n",
       "      <th>Date</th>\n",
       "      <th>Open</th>\n",
       "      <th>High</th>\n",
       "      <th>Low</th>\n",
       "      <th>Close</th>\n",
       "      <th>Volume</th>\n",
       "      <th>Dividends</th>\n",
       "      <th>Stock Splits</th>\n",
       "    </tr>\n",
       "  </thead>\n",
       "  <tbody>\n",
       "    <tr>\n",
       "      <th>3703</th>\n",
       "      <td>2025-03-19 00:00:00-04:00</td>\n",
       "      <td>231.610001</td>\n",
       "      <td>241.410004</td>\n",
       "      <td>229.199997</td>\n",
       "      <td>235.860001</td>\n",
       "      <td>111993800</td>\n",
       "      <td>0.0</td>\n",
       "      <td>0.0</td>\n",
       "    </tr>\n",
       "    <tr>\n",
       "      <th>3704</th>\n",
       "      <td>2025-03-20 00:00:00-04:00</td>\n",
       "      <td>233.350006</td>\n",
       "      <td>238.000000</td>\n",
       "      <td>230.050003</td>\n",
       "      <td>236.259995</td>\n",
       "      <td>99028300</td>\n",
       "      <td>0.0</td>\n",
       "      <td>0.0</td>\n",
       "    </tr>\n",
       "    <tr>\n",
       "      <th>3705</th>\n",
       "      <td>2025-03-21 00:00:00-04:00</td>\n",
       "      <td>234.990005</td>\n",
       "      <td>249.520004</td>\n",
       "      <td>234.550003</td>\n",
       "      <td>248.710007</td>\n",
       "      <td>132728700</td>\n",
       "      <td>0.0</td>\n",
       "      <td>0.0</td>\n",
       "    </tr>\n",
       "    <tr>\n",
       "      <th>3706</th>\n",
       "      <td>2025-03-24 00:00:00-04:00</td>\n",
       "      <td>258.079987</td>\n",
       "      <td>278.640015</td>\n",
       "      <td>256.329987</td>\n",
       "      <td>278.390015</td>\n",
       "      <td>169079900</td>\n",
       "      <td>0.0</td>\n",
       "      <td>0.0</td>\n",
       "    </tr>\n",
       "    <tr>\n",
       "      <th>3707</th>\n",
       "      <td>2025-03-25 00:00:00-04:00</td>\n",
       "      <td>283.600006</td>\n",
       "      <td>288.200012</td>\n",
       "      <td>271.279999</td>\n",
       "      <td>288.140015</td>\n",
       "      <td>149151000</td>\n",
       "      <td>0.0</td>\n",
       "      <td>0.0</td>\n",
       "    </tr>\n",
       "  </tbody>\n",
       "</table>\n",
       "</div>"
      ],
      "text/plain": [
       "                          Date        Open        High         Low  \\\n",
       "3703 2025-03-19 00:00:00-04:00  231.610001  241.410004  229.199997   \n",
       "3704 2025-03-20 00:00:00-04:00  233.350006  238.000000  230.050003   \n",
       "3705 2025-03-21 00:00:00-04:00  234.990005  249.520004  234.550003   \n",
       "3706 2025-03-24 00:00:00-04:00  258.079987  278.640015  256.329987   \n",
       "3707 2025-03-25 00:00:00-04:00  283.600006  288.200012  271.279999   \n",
       "\n",
       "           Close     Volume  Dividends  Stock Splits  \n",
       "3703  235.860001  111993800        0.0           0.0  \n",
       "3704  236.259995   99028300        0.0           0.0  \n",
       "3705  248.710007  132728700        0.0           0.0  \n",
       "3706  278.390015  169079900        0.0           0.0  \n",
       "3707  288.140015  149151000        0.0           0.0  "
      ]
     },
     "execution_count": 5,
     "metadata": {},
     "output_type": "execute_result"
    }
   ],
   "source": [
    "# 1. Fetch stock data for TSLA\n",
    "GetTSLA = yf.Ticker(\"TSLA\")\n",
    "df=GetTSLA.history(period=\"max\")\n",
    "df.reset_index(inplace=True)  # Reset index to make \"Date\" a column\n",
    "df.head()\n",
    "df.tail()"
   ]
  },
  {
   "cell_type": "code",
   "execution_count": 6,
   "metadata": {},
   "outputs": [
    {
     "ename": "SyntaxError",
     "evalue": "incomplete input (592463418.py, line 4)",
     "output_type": "error",
     "traceback": [
      "\u001b[0;36m  Cell \u001b[0;32mIn[6], line 4\u001b[0;36m\u001b[0m\n\u001b[0;31m    print(\"총 시계열 길이 (영업일 기준):\", len(df_filtered)\u001b[0m\n\u001b[0m                                                ^\u001b[0m\n\u001b[0;31mSyntaxError\u001b[0m\u001b[0;31m:\u001b[0m incomplete input\n"
     ]
    }
   ],
   "source": [
    "df_filtered = df[(df['Date'] >= '2023-01-01') & (df['Date'] <= '2024-12-31')]\n",
    "\n",
    "# 길이 출력\n",
    "print(\"총 시계열 길이 (영업일 기준):\", len(df_filtered)"
   ]
  },
  {
   "cell_type": "markdown",
   "metadata": {},
   "source": [
    "### Autocorrelation Analysis for Period Selection\n",
    "\n",
    "To determine the appropriate sampling periods for the time series model, I analyzed the **Autocorrelation Function (ACF)** of the data. I generated ACF plots for both the **original stock price data** and the **differenced version** to observe any significant lags or periodic patterns.\n",
    "\n",
    "Based on the results, I tested multiple sampling intervals (e.g., **5-day, 7-day, and 10-day** intervals) to find an optimal resampling frequency for the model input.\n",
    "\n",
    "Since the **TimesFM model does not require stationarity**, I decided to proceed with the **original (non-differenced) data** while keeping the selected sampling periods.\n"
   ]
  },
  {
   "cell_type": "code",
   "execution_count": null,
   "metadata": {},
   "outputs": [],
   "source": [
    "from statsmodels.graphics.tsaplots import plot_acf\n",
    "\n",
    "price = df[\"Close\"]\n",
    "fig, (ax1, ax2 ) = plt.subplots(1, 2, figsize=(16, 4))\n",
    "price_diff = price.diff().dropna()\n",
    "\n",
    "\n",
    "plot_acf(price, lags=50, ax=ax1)  # Check autocorrelation\n",
    "plot_acf(price_diff, lags=50, ax=ax2)\n",
    "ax2.set_title(\"Difference once\")"
   ]
  },
  {
   "cell_type": "code",
   "execution_count": null,
   "metadata": {},
   "outputs": [],
   "source": [
    "# To check if the number of samples is enough\n",
    "for days in [5, 7, 10, 14, 20]:\n",
    "    print(f\"Sampling every {days} days: {len(price.values[::days])} samples remaining\")"
   ]
  },
  {
   "cell_type": "code",
   "execution_count": 8,
   "metadata": {},
   "outputs": [],
   "source": [
    "# 2. Prepare input data (resample and ensure 1D)\n",
    "forecast_input = [\n",
    "    np.array(price.values[::5]).flatten(),   # Every 5th day\n",
    "    np.array(price.values[::7]).flatten(),  # Every 7th day\n",
    "    np.array(price.values[::10]).flatten(),  # Every 10th day\n",
    "]\n",
    "\n",
    "# 3. Ensure all arrays have the same length\n",
    "min_length = min(len(arr) for arr in forecast_input)\n",
    "forecast_input = [arr[:min_length] for arr in forecast_input]"
   ]
  },
  {
   "cell_type": "markdown",
   "metadata": {},
   "source": [
    "### Determining of the frequency input\n",
    "In particular regarding the frequency, TimesFM expects a categorical indicator valued in {0, 1, 2}:\n",
    "\n",
    "- 0 (default): high frequency, long horizon time series. We recommend using this for time series up to daily granularity.\n",
    "- 1: medium frequency time series. We recommend using this for weekly and monthly data.\n",
    "- 2: low frequency, short horizon time series. We recommend using this for anything beyond monthly, e.g. quarterly or yearly.\n",
    "This categorical value should be directly provided with the array inputs. For dataframe inputs, we convert the conventional letter coding of frequencies to our expected categories, that\n",
    "\n",
    "0: T, MIN, H, D, B, U\n",
    "\n",
    "1: W, M\n",
    "\n",
    "2: Q, Y"
   ]
  },
  {
   "cell_type": "code",
   "execution_count": 9,
   "metadata": {},
   "outputs": [],
   "source": [
    "# 4. Frequency input \n",
    "frequency_input = [0]"
   ]
  },
  {
   "cell_type": "code",
   "execution_count": null,
   "metadata": {},
   "outputs": [],
   "source": [
    "#5. Build input dataframe for TimesFM\n",
    "# Create the dataframe in the format required by TimesFM\n",
    "input_df = pd.DataFrame({\n",
    "    \"unique_id\": [\"TSLA\"] * len(df),  # Use \"TSLA\" as the unique identifier\n",
    "    \"ds\": df[\"Date\"],                # Date column\n",
    "    \"y\": df[\"Close\"]                 # Closing price\n",
    "})\n",
    "\n",
    "# 3. Ensure y values are 1-dimensional\n",
    "# Flatten y to ensure it is a 1D array\n",
    "input_df[\"y\"] = input_df[\"y\"].values.flatten()\n",
    "\n",
    "\n",
    "# 6. Forecast using TimesFM\n",
    "# Pass the input dataframe to the TimesFM model for forecasting\n",
    "forecast_df = tfm.forecast_on_df(\n",
    "    inputs=input_df,  # Input dataframe\n",
    "    freq=\"D\",         # Daily frequency\n",
    "    value_name=\"y\",   # The column to predict\n",
    "    num_jobs=-1       # Use all available cores for parallel processing\n",
    ")\n",
    "\n",
    "# 7. Display forecast results\n",
    "print(forecast_df)\n"
   ]
  },
  {
   "cell_type": "markdown",
   "metadata": {},
   "source": [
    "# TimesFM Forecast Interpretation\n",
    "The forecast results include multiple columns that represent the predicted values and their uncertainty ranges. Here's how to interpret the key columns:\n",
    "\n",
    "\n",
    "- timesfm: Median prediction (most likely value).\n",
    "\n",
    "- timesfm-q-0.1: 10% quantile prediction (lower range of uncertainty).\n",
    "\n",
    "- timesfm-q-0.5: 50% quantile prediction (equivalent to timesfm median).\n",
    "\n",
    "- timesfm-q-0.9: 90% quantile prediction (higher range of uncertainty, if available).\n",
    "\n",
    "\n",
    "<Example Interpretation: > \n",
    "For a given date (e.g., 2025-01-28):\n",
    "\n",
    "- Median prediction (timesfm): 393.19 → The most likely stock price.\n",
    "\n",
    "- 10% quantile (timesfm-q-0.1): 371.13 → Lower bound of the range.\n",
    "\n",
    "- 50% quantile (timesfm-q-0.5): 393.19 → The central prediction (same as timesfm).\n",
    "\n",
    "- 90% quantile: (if present) Higher bound of the range."
   ]
  },
  {
   "cell_type": "code",
   "execution_count": null,
   "metadata": {},
   "outputs": [],
   "source": [
    "import matplotlib.pyplot as plt\n",
    "\n",
    "plt.figure(figsize=(12,4))\n",
    "plt.plot(forecast_df[\"ds\"], forecast_df[\"timesfm\"], label=\"Median Prediction\", color=\"blue\")\n",
    "plt.fill_between(\n",
    "    forecast_df[\"ds\"],\n",
    "    forecast_df[\"timesfm-q-0.1\"],\n",
    "    forecast_df[\"timesfm-q-0.9\"],\n",
    "    color=\"blue\",\n",
    "    alpha=0.2,\n",
    "    label=\"10%-90% Interval\"\n",
    ")\n",
    "plt.xlabel(\"Date\")\n",
    "plt.ylabel(\"Stock Price\")\n",
    "plt.title(\"Tesla Stock Price Forecast\")\n",
    "plt.legend()\n",
    "plt.show()\n"
   ]
  },
  {
   "cell_type": "code",
   "execution_count": null,
   "metadata": {},
   "outputs": [],
   "source": [
    "df"
   ]
  },
  {
   "cell_type": "code",
   "execution_count": null,
   "metadata": {},
   "outputs": [],
   "source": [
    "import matplotlib.pyplot as plt\n",
    "import pandas as pd\n",
    "\n",
    "plt.figure(figsize=(12, 4))\n",
    "\n",
    "# plot actual price(past data)\n",
    "plt.plot(df[\"Date\"], df[\"Close\"], label=\"Actual Price\", color=\"black\")\n",
    "\n",
    "# plot forecasted price\n",
    "plt.plot(forecast_df[\"ds\"], forecast_df[\"timesfm\"], label=\"Median Prediction\", color=\"blue\")\n",
    "\n",
    "# plot 10%-90% interval\n",
    "plt.fill_between(\n",
    "    forecast_df[\"ds\"],\n",
    "    forecast_df[\"timesfm-q-0.3\"],\n",
    "    forecast_df[\"timesfm-q-0.7\"],\n",
    "    color=\"blue\",\n",
    "    alpha=0.2,\n",
    "    label=\"30-70% Interval\"\n",
    ")\n",
    "\n",
    "# Set the x-axis \n",
    "start_date = pd.to_datetime(\"2024-01-01\")\n",
    "end_date = forecast_df[\"ds\"].max()\n",
    "plt.xlim([start_date, end_date])\n",
    "\n",
    "plt.xlabel(\"Date\")\n",
    "plt.ylabel(\"Stock Price\")\n",
    "plt.title(\"Tesla Stock Price Forecast with Historical Data\")\n",
    "plt.legend()\n",
    "plt.grid(True)\n",
    "plt.show()\n"
   ]
  },
  {
   "cell_type": "markdown",
   "metadata": {},
   "source": [
    "# Predicting Tomorrow's TSLA stock price"
   ]
  },
  {
   "cell_type": "code",
   "execution_count": null,
   "metadata": {},
   "outputs": [],
   "source": [
    "from datetime import datetime, timedelta\n",
    "\n",
    "# Generate the next day's datetime\n",
    "today = datetime.today()\n",
    "tmr = (today + timedelta(days=1)).date()  \n",
    "\n",
    "# Ensure both tmr and forecast_df[\"ds\"] are datetime\n",
    "forecast_df[\"ds\"] = pd.to_datetime(forecast_df[\"ds\"])  # Convert to datetime\n",
    "filtered_df = forecast_df[forecast_df[\"ds\"].dt.date == tmr]  # Compare dates directly\n",
    "\n",
    "print(filtered_df)"
   ]
  },
  {
   "cell_type": "code",
   "execution_count": null,
   "metadata": {},
   "outputs": [],
   "source": [
    "print(tmr)"
   ]
  },
  {
   "cell_type": "markdown",
   "metadata": {},
   "source": [
    "### 1. Split the data 2023-2024 - to train, 2025 to predict \n",
    "\n",
    "### 2. compare actual vs predict\n",
    "### 3. performance valuation matrix ( mse, rsme, mae, r-square)\n",
    "\n",
    "-  set the seed \n",
    "- try different seed value and check if the result is the same or not.\n",
    "- improve hyperparameter (try)\n",
    "- when I make the markdown note, I should know what each parameter do (taking note for everything)"
   ]
  },
  {
   "cell_type": "code",
   "execution_count": null,
   "metadata": {},
   "outputs": [],
   "source": [
    "input_df"
   ]
  },
  {
   "cell_type": "code",
   "execution_count": null,
   "metadata": {},
   "outputs": [],
   "source": [
    "ticker = 'TSLA'\n",
    "data = yf.Ticker(ticker)\n",
    "data"
   ]
  },
  {
   "cell_type": "code",
   "execution_count": 32,
   "metadata": {},
   "outputs": [],
   "source": [
    "train = data.history(start='2023-01-01',end='2024-12-31')\n",
    "test = data.history(start='2025-01-01',end='2025-12-31')"
   ]
  },
  {
   "cell_type": "markdown",
   "metadata": {},
   "source": []
  }
 ],
 "metadata": {
  "kernelspec": {
   "display_name": "3.11.11",
   "language": "python",
   "name": "python3"
  },
  "language_info": {
   "codemirror_mode": {
    "name": "ipython",
    "version": 3
   },
   "file_extension": ".py",
   "mimetype": "text/x-python",
   "name": "python",
   "nbconvert_exporter": "python",
   "pygments_lexer": "ipython3",
   "version": "3.11.11"
  }
 },
 "nbformat": 4,
 "nbformat_minor": 2
}
