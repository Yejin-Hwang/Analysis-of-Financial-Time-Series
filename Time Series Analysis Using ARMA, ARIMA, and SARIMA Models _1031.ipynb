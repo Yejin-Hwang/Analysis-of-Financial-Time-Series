{
 "cells": [
  {
   "cell_type": "code",
   "execution_count": 7,
   "metadata": {},
   "outputs": [
    {
     "name": "stderr",
     "output_type": "stream",
     "text": [
      "[*********************100%***********************]  1 of 1 completed\n"
     ]
    }
   ],
   "source": [
    "import numpy as np\n",
    "import yfinance as yf\n",
    "\n",
    "# Example: Load stock data (e.g., IBM)\n",
    "IBM_stock_data = yf.download('IBM', start='2023-01-01', end='2023-12-31')['Close']\n",
    "\n",
    "# Generate sine wave data\n",
    "T = 500\n",
    "time = np.linspace(0, 10, T)\n",
    "sine_data = np.sin(time)\n"
   ]
  },
  {
   "cell_type": "markdown",
   "metadata": {},
   "source": [
    "# 1. Moving Average (MA) model"
   ]
  },
  {
   "cell_type": "code",
   "execution_count": 2,
   "metadata": {},
   "outputs": [],
   "source": [
    "def moving_average(data, q):\n",
    "    \"\"\"Compute the Moving Average (MA) model of order q.\"\"\"\n",
    "    ma_series = np.zeros_like(data)\n",
    "    for t in range(q, len(data)):\n",
    "        ma_series[t] = np.mean(data[t-q:t])\n",
    "    return ma_series\n"
   ]
  },
  {
   "cell_type": "markdown",
   "metadata": {},
   "source": [
    "# 2. Autoregression (AR) model "
   ]
  },
  {
   "cell_type": "code",
   "execution_count": 3,
   "metadata": {},
   "outputs": [],
   "source": [
    "def autoregression(data, p):\n",
    "    \"\"\"Compute the Autoregressive (AR) model of order p.\"\"\"\n",
    "    ar_series = np.zeros_like(data)\n",
    "    for t in range(p, len(data)):\n",
    "        ar_series[t] = np.dot(data[t-p:t][::-1], np.ones(p) / p)  # Averaged AR coefficients\n",
    "    return ar_series\n"
   ]
  },
  {
   "cell_type": "markdown",
   "metadata": {},
   "source": [
    "# 3.ARMA model"
   ]
  },
  {
   "cell_type": "code",
   "execution_count": 4,
   "metadata": {},
   "outputs": [],
   "source": [
    "def arma(data, p, q):\n",
    "    \"\"\"Compute the ARMA model of order (p, q).\"\"\"\n",
    "    ar_part = autoregression(data, p)\n",
    "    ma_part = moving_average(data, q)\n",
    "    return ar_part + ma_part\n"
   ]
  },
  {
   "cell_type": "markdown",
   "metadata": {},
   "source": [
    "# Time Series Analysis Using ARMA, ARIMA, and SARIMA Models "
   ]
  },
  {
   "cell_type": "code",
   "execution_count": 9,
   "metadata": {},
   "outputs": [
    {
     "name": "stdout",
     "output_type": "stream",
     "text": [
      "                               SARIMAX Results                                \n",
      "==============================================================================\n",
      "Dep. Variable:                  Close   No. Observations:                  250\n",
      "Model:                 ARIMA(2, 0, 2)   Log Likelihood                -439.871\n",
      "Date:                Fri, 01 Nov 2024   AIC                            891.741\n",
      "Time:                        06:57:04   BIC                            912.870\n",
      "Sample:                             0   HQIC                           900.245\n",
      "                                - 250                                         \n",
      "Covariance Type:                  opg                                         \n",
      "==============================================================================\n",
      "                 coef    std err          z      P>|z|      [0.025      0.975]\n",
      "------------------------------------------------------------------------------\n",
      "const        146.5118     14.289     10.254      0.000     118.506     174.517\n",
      "ar.L1          0.0321      0.049      0.650      0.516      -0.065       0.129\n",
      "ar.L2          0.9552      0.048     19.844      0.000       0.861       1.050\n",
      "ma.L1          1.0181      0.087     11.645      0.000       0.847       1.189\n",
      "ma.L2          0.0330      0.076      0.436      0.663      -0.116       0.182\n",
      "sigma2         1.9396      0.113     17.214      0.000       1.719       2.160\n",
      "===================================================================================\n",
      "Ljung-Box (L1) (Q):                   0.00   Jarque-Bera (JB):               133.99\n",
      "Prob(Q):                              0.97   Prob(JB):                         0.00\n",
      "Heteroskedasticity (H):               0.97   Skew:                            -0.21\n",
      "Prob(H) (two-sided):                  0.90   Kurtosis:                         6.56\n",
      "===================================================================================\n",
      "\n",
      "Warnings:\n",
      "[1] Covariance matrix calculated using the outer product of gradients (complex-step).\n"
     ]
    },
    {
     "name": "stderr",
     "output_type": "stream",
     "text": [
      "/opt/anaconda3/lib/python3.12/site-packages/statsmodels/tsa/base/tsa_model.py:473: ValueWarning: A date index has been provided, but it has no associated frequency information and so will be ignored when e.g. forecasting.\n",
      "  self._init_dates(dates, freq)\n",
      "/opt/anaconda3/lib/python3.12/site-packages/statsmodels/tsa/base/tsa_model.py:473: ValueWarning: A date index has been provided, but it has no associated frequency information and so will be ignored when e.g. forecasting.\n",
      "  self._init_dates(dates, freq)\n",
      "/opt/anaconda3/lib/python3.12/site-packages/statsmodels/tsa/base/tsa_model.py:473: ValueWarning: A date index has been provided, but it has no associated frequency information and so will be ignored when e.g. forecasting.\n",
      "  self._init_dates(dates, freq)\n",
      "/opt/anaconda3/lib/python3.12/site-packages/statsmodels/tsa/statespace/sarimax.py:966: UserWarning: Non-stationary starting autoregressive parameters found. Using zeros as starting parameters.\n",
      "  warn('Non-stationary starting autoregressive parameters'\n"
     ]
    }
   ],
   "source": [
    "import statsmodels.api as sm\n",
    "\n",
    "# ARMA model\n",
    "arma_model = sm.tsa.ARIMA(IBM_stock_data, order=(2, 0, 2)).fit()\n",
    "print(arma_model.summary())"
   ]
  },
  {
   "cell_type": "code",
   "execution_count": 10,
   "metadata": {},
   "outputs": [
    {
     "name": "stdout",
     "output_type": "stream",
     "text": [
      "                               SARIMAX Results                                \n",
      "==============================================================================\n",
      "Dep. Variable:                  Close   No. Observations:                  250\n",
      "Model:                 ARIMA(2, 1, 2)   Log Likelihood                -435.690\n",
      "Date:                Fri, 01 Nov 2024   AIC                            881.379\n",
      "Time:                        06:57:07   BIC                            898.966\n",
      "Sample:                             0   HQIC                           888.458\n",
      "                                - 250                                         \n",
      "Covariance Type:                  opg                                         \n",
      "==============================================================================\n",
      "                 coef    std err          z      P>|z|      [0.025      0.975]\n",
      "------------------------------------------------------------------------------\n",
      "ar.L1         -0.1040      0.271     -0.384      0.701      -0.634       0.426\n",
      "ar.L2          0.8224      0.252      3.263      0.001       0.328       1.316\n",
      "ma.L1          0.1677      0.299      0.562      0.574      -0.418       0.753\n",
      "ma.L2         -0.8038      0.291     -2.762      0.006      -1.374      -0.233\n",
      "sigma2         1.9361      0.114     16.961      0.000       1.712       2.160\n",
      "===================================================================================\n",
      "Ljung-Box (L1) (Q):                   0.06   Jarque-Bera (JB):               148.40\n",
      "Prob(Q):                              0.80   Prob(JB):                         0.00\n",
      "Heteroskedasticity (H):               0.95   Skew:                            -0.19\n",
      "Prob(H) (two-sided):                  0.83   Kurtosis:                         6.76\n",
      "===================================================================================\n",
      "\n",
      "Warnings:\n",
      "[1] Covariance matrix calculated using the outer product of gradients (complex-step).\n"
     ]
    },
    {
     "name": "stderr",
     "output_type": "stream",
     "text": [
      "/opt/anaconda3/lib/python3.12/site-packages/statsmodels/tsa/base/tsa_model.py:473: ValueWarning: A date index has been provided, but it has no associated frequency information and so will be ignored when e.g. forecasting.\n",
      "  self._init_dates(dates, freq)\n",
      "/opt/anaconda3/lib/python3.12/site-packages/statsmodels/tsa/base/tsa_model.py:473: ValueWarning: A date index has been provided, but it has no associated frequency information and so will be ignored when e.g. forecasting.\n",
      "  self._init_dates(dates, freq)\n",
      "/opt/anaconda3/lib/python3.12/site-packages/statsmodels/tsa/base/tsa_model.py:473: ValueWarning: A date index has been provided, but it has no associated frequency information and so will be ignored when e.g. forecasting.\n",
      "  self._init_dates(dates, freq)\n"
     ]
    }
   ],
   "source": [
    "# ARIMA model\n",
    "arima_model = sm.tsa.ARIMA(IBM_stock_data, order=(2, 1, 2)).fit()\n",
    "print(arima_model.summary())"
   ]
  },
  {
   "cell_type": "code",
   "execution_count": null,
   "metadata": {},
   "outputs": [],
   "source": [
    "# SARIMA model \n",
    "sarima_model = sm.tsa.SARIMAX(IBM_stock_data, order=(2, 1, 2), seasonal_order=(1, 1, 1, 12)).fit()\n",
    "print(sarima_model.summary())"
   ]
  }
 ],
 "metadata": {
  "kernelspec": {
   "display_name": "base",
   "language": "python",
   "name": "python3"
  },
  "language_info": {
   "codemirror_mode": {
    "name": "ipython",
    "version": 3
   },
   "file_extension": ".py",
   "mimetype": "text/x-python",
   "name": "python",
   "nbconvert_exporter": "python",
   "pygments_lexer": "ipython3",
   "version": "3.12.4"
  }
 },
 "nbformat": 4,
 "nbformat_minor": 2
}
