{
 "cells": [
  {
   "cell_type": "markdown",
   "metadata": {},
   "source": [
    "# Google TimesFM model for predict today's NVidia stock price (yejin)\n",
    "\n",
    "- TimesFM (Time Series Foundation Model)\n",
    "- reference \n",
    ": https://huggingface.co/google/timesfm-1.0-200m\n",
    "\n",
    "* used python 3.11.11 in jupyter kernel on my mac"
   ]
  },
  {
   "cell_type": "code",
   "execution_count": 1,
   "metadata": {},
   "outputs": [],
   "source": [
    "import pandas as pd\n",
    "import numpy as np\n",
    "import matplotlib.pyplot as plt\n",
    "import yfinance as yf\n",
    "from time import time\n",
    "from datetime import date\n",
    "import warnings\n",
    "warnings.filterwarnings(\"ignore\")"
   ]
  },
  {
   "cell_type": "markdown",
   "metadata": {},
   "source": []
  },
  {
   "cell_type": "code",
   "execution_count": 2,
   "metadata": {},
   "outputs": [
    {
     "name": "stdout",
     "output_type": "stream",
     "text": [
      " See https://github.com/google-research/timesfm/blob/master/README.md for updated APIs.\n",
      "Loaded PyTorch TimesFM, likely because python version is 3.11.11 (main, Jan 27 2025, 15:58:08) [Clang 16.0.0 (clang-1600.0.26.6)].\n"
     ]
    },
    {
     "data": {
      "application/vnd.jupyter.widget-view+json": {
       "model_id": "541af575be844486a4fe7e7263c6d1f5",
       "version_major": 2,
       "version_minor": 0
      },
      "text/plain": [
       "Fetching 3 files:   0%|          | 0/3 [00:00<?, ?it/s]"
      ]
     },
     "metadata": {},
     "output_type": "display_data"
    }
   ],
   "source": [
    "import timesfm\n",
    "# For Torch\n",
    "tfm = timesfm.TimesFm(\n",
    "      hparams=timesfm.TimesFmHparams(\n",
    "          backend=\"gpu\", # Specifies the hardware backend; options are \"cpu\" or \"gpu\" ,GPU can significantly speed up computations\n",
    "          per_core_batch_size=32, # Larger batch sizes can improve training stability but may require more memory.\n",
    "          horizon_len=50, #Determines the number of future time steps the model aims to predict.\n",
    "          num_layers=50, # More layers can capture more complex patterns in the data but may lead to overfitting if not managed properly. \n",
    "          use_positional_embedding=True, \n",
    "          # For time-series data where the sequence order is crucial, \n",
    "          # enabling positional embeddings (True) can help the model understand temporal relationships better.\n",
    "          context_len=2048, \n",
    "          #A longer context can provide more information but may also introduce more noise.\n",
    "          # length of historical data (in time steps) the model uses to make predictions.\n",
    "      ),\n",
    "      checkpoint=timesfm.TimesFmCheckpoint(\n",
    "          huggingface_repo_id=\"google/timesfm-2.0-500m-pytorch\"),\n",
    "  )"
   ]
  },
  {
   "cell_type": "code",
   "execution_count": 3,
   "metadata": {},
   "outputs": [],
   "source": [
    "# # For Torch\n",
    "# tfm = timesfm.TimesFm(\n",
    "#       hparams=timesfm.TimesFmHparams(\n",
    "#           backend=\"gpu\",\n",
    "#           per_core_batch_size=32,\n",
    "#           horizon_len=128,\n",
    "#       ),\n",
    "#       checkpoint=timesfm.TimesFmCheckpoint(\n",
    "#           huggingface_repo_id=\"google/timesfm-1.0-200m-pytorch\"),\n",
    "#   )"
   ]
  },
  {
   "cell_type": "code",
   "execution_count": 7,
   "metadata": {},
   "outputs": [
    {
     "ename": "YFRateLimitError",
     "evalue": "Too Many Requests. Rate limited. Try after a while.",
     "output_type": "error",
     "traceback": [
      "\u001b[0;31m---------------------------------------------------------------------------\u001b[0m",
      "\u001b[0;31mYFRateLimitError\u001b[0m                          Traceback (most recent call last)",
      "Cell \u001b[0;32mIn[7], line 3\u001b[0m\n\u001b[1;32m      1\u001b[0m \u001b[38;5;66;03m# 1. Fetch stock data for NVDA\u001b[39;00m\n\u001b[1;32m      2\u001b[0m GetNVDA \u001b[38;5;241m=\u001b[39m yf\u001b[38;5;241m.\u001b[39mTicker(\u001b[38;5;124m\"\u001b[39m\u001b[38;5;124mNVDA\u001b[39m\u001b[38;5;124m\"\u001b[39m)\n\u001b[0;32m----> 3\u001b[0m NVDA_data\u001b[38;5;241m=\u001b[39m\u001b[43mGetNVDA\u001b[49m\u001b[38;5;241;43m.\u001b[39;49m\u001b[43mhistory\u001b[49m\u001b[43m(\u001b[49m\u001b[43mperiod\u001b[49m\u001b[38;5;241;43m=\u001b[39;49m\u001b[38;5;124;43m\"\u001b[39;49m\u001b[38;5;124;43m5y\u001b[39;49m\u001b[38;5;124;43m\"\u001b[39;49m\u001b[43m)\u001b[49m\n\u001b[1;32m      4\u001b[0m NVDA_data\u001b[38;5;241m.\u001b[39mreset_index(inplace\u001b[38;5;241m=\u001b[39m\u001b[38;5;28;01mTrue\u001b[39;00m)  \u001b[38;5;66;03m# Reset index to make \"Date\" a column\u001b[39;00m\n\u001b[1;32m      5\u001b[0m NVDA_data\u001b[38;5;241m.\u001b[39mhead()\n",
      "File \u001b[0;32m~/.pyenv/versions/3.11.11/lib/python3.11/site-packages/yfinance/utils.py:104\u001b[0m, in \u001b[0;36mlog_indent_decorator.<locals>.wrapper\u001b[0;34m(*args, **kwargs)\u001b[0m\n\u001b[1;32m    101\u001b[0m logger\u001b[38;5;241m.\u001b[39mdebug(\u001b[38;5;124mf\u001b[39m\u001b[38;5;124m'\u001b[39m\u001b[38;5;124mEntering \u001b[39m\u001b[38;5;132;01m{\u001b[39;00mfunc\u001b[38;5;241m.\u001b[39m\u001b[38;5;18m__name__\u001b[39m\u001b[38;5;132;01m}\u001b[39;00m\u001b[38;5;124m()\u001b[39m\u001b[38;5;124m'\u001b[39m)\n\u001b[1;32m    103\u001b[0m \u001b[38;5;28;01mwith\u001b[39;00m IndentationContext():\n\u001b[0;32m--> 104\u001b[0m     result \u001b[38;5;241m=\u001b[39m \u001b[43mfunc\u001b[49m\u001b[43m(\u001b[49m\u001b[38;5;241;43m*\u001b[39;49m\u001b[43margs\u001b[49m\u001b[43m,\u001b[49m\u001b[43m \u001b[49m\u001b[38;5;241;43m*\u001b[39;49m\u001b[38;5;241;43m*\u001b[39;49m\u001b[43mkwargs\u001b[49m\u001b[43m)\u001b[49m\n\u001b[1;32m    106\u001b[0m logger\u001b[38;5;241m.\u001b[39mdebug(\u001b[38;5;124mf\u001b[39m\u001b[38;5;124m'\u001b[39m\u001b[38;5;124mExiting \u001b[39m\u001b[38;5;132;01m{\u001b[39;00mfunc\u001b[38;5;241m.\u001b[39m\u001b[38;5;18m__name__\u001b[39m\u001b[38;5;132;01m}\u001b[39;00m\u001b[38;5;124m()\u001b[39m\u001b[38;5;124m'\u001b[39m)\n\u001b[1;32m    107\u001b[0m \u001b[38;5;28;01mreturn\u001b[39;00m result\n",
      "File \u001b[0;32m~/.pyenv/versions/3.11.11/lib/python3.11/site-packages/yfinance/base.py:81\u001b[0m, in \u001b[0;36mTickerBase.history\u001b[0;34m(self, *args, **kwargs)\u001b[0m\n\u001b[1;32m     79\u001b[0m \u001b[38;5;129m@utils\u001b[39m\u001b[38;5;241m.\u001b[39mlog_indent_decorator\n\u001b[1;32m     80\u001b[0m \u001b[38;5;28;01mdef\u001b[39;00m\u001b[38;5;250m \u001b[39m\u001b[38;5;21mhistory\u001b[39m(\u001b[38;5;28mself\u001b[39m, \u001b[38;5;241m*\u001b[39margs, \u001b[38;5;241m*\u001b[39m\u001b[38;5;241m*\u001b[39mkwargs) \u001b[38;5;241m-\u001b[39m\u001b[38;5;241m>\u001b[39m pd\u001b[38;5;241m.\u001b[39mDataFrame:\n\u001b[0;32m---> 81\u001b[0m     \u001b[38;5;28;01mreturn\u001b[39;00m \u001b[38;5;28;43mself\u001b[39;49m\u001b[38;5;241;43m.\u001b[39;49m\u001b[43m_lazy_load_price_history\u001b[49m\u001b[43m(\u001b[49m\u001b[43m)\u001b[49m\u001b[38;5;241;43m.\u001b[39;49m\u001b[43mhistory\u001b[49m\u001b[43m(\u001b[49m\u001b[38;5;241;43m*\u001b[39;49m\u001b[43margs\u001b[49m\u001b[43m,\u001b[49m\u001b[43m \u001b[49m\u001b[38;5;241;43m*\u001b[39;49m\u001b[38;5;241;43m*\u001b[39;49m\u001b[43mkwargs\u001b[49m\u001b[43m)\u001b[49m\n",
      "File \u001b[0;32m~/.pyenv/versions/3.11.11/lib/python3.11/site-packages/yfinance/utils.py:104\u001b[0m, in \u001b[0;36mlog_indent_decorator.<locals>.wrapper\u001b[0;34m(*args, **kwargs)\u001b[0m\n\u001b[1;32m    101\u001b[0m logger\u001b[38;5;241m.\u001b[39mdebug(\u001b[38;5;124mf\u001b[39m\u001b[38;5;124m'\u001b[39m\u001b[38;5;124mEntering \u001b[39m\u001b[38;5;132;01m{\u001b[39;00mfunc\u001b[38;5;241m.\u001b[39m\u001b[38;5;18m__name__\u001b[39m\u001b[38;5;132;01m}\u001b[39;00m\u001b[38;5;124m()\u001b[39m\u001b[38;5;124m'\u001b[39m)\n\u001b[1;32m    103\u001b[0m \u001b[38;5;28;01mwith\u001b[39;00m IndentationContext():\n\u001b[0;32m--> 104\u001b[0m     result \u001b[38;5;241m=\u001b[39m \u001b[43mfunc\u001b[49m\u001b[43m(\u001b[49m\u001b[38;5;241;43m*\u001b[39;49m\u001b[43margs\u001b[49m\u001b[43m,\u001b[49m\u001b[43m \u001b[49m\u001b[38;5;241;43m*\u001b[39;49m\u001b[38;5;241;43m*\u001b[39;49m\u001b[43mkwargs\u001b[49m\u001b[43m)\u001b[49m\n\u001b[1;32m    106\u001b[0m logger\u001b[38;5;241m.\u001b[39mdebug(\u001b[38;5;124mf\u001b[39m\u001b[38;5;124m'\u001b[39m\u001b[38;5;124mExiting \u001b[39m\u001b[38;5;132;01m{\u001b[39;00mfunc\u001b[38;5;241m.\u001b[39m\u001b[38;5;18m__name__\u001b[39m\u001b[38;5;132;01m}\u001b[39;00m\u001b[38;5;124m()\u001b[39m\u001b[38;5;124m'\u001b[39m)\n\u001b[1;32m    107\u001b[0m \u001b[38;5;28;01mreturn\u001b[39;00m result\n",
      "File \u001b[0;32m~/.pyenv/versions/3.11.11/lib/python3.11/site-packages/yfinance/scrapers/history.py:175\u001b[0m, in \u001b[0;36mPriceHistory.history\u001b[0;34m(self, period, interval, start, end, prepost, actions, auto_adjust, back_adjust, repair, keepna, proxy, rounding, timeout, raise_errors)\u001b[0m\n\u001b[1;32m    173\u001b[0m         get_fn \u001b[38;5;241m=\u001b[39m \u001b[38;5;28mself\u001b[39m\u001b[38;5;241m.\u001b[39m_data\u001b[38;5;241m.\u001b[39mcache_get\n\u001b[1;32m    174\u001b[0m \u001b[38;5;28;01mtry\u001b[39;00m:\n\u001b[0;32m--> 175\u001b[0m     data \u001b[38;5;241m=\u001b[39m \u001b[43mget_fn\u001b[49m\u001b[43m(\u001b[49m\n\u001b[1;32m    176\u001b[0m \u001b[43m        \u001b[49m\u001b[43murl\u001b[49m\u001b[38;5;241;43m=\u001b[39;49m\u001b[43murl\u001b[49m\u001b[43m,\u001b[49m\n\u001b[1;32m    177\u001b[0m \u001b[43m        \u001b[49m\u001b[43mparams\u001b[49m\u001b[38;5;241;43m=\u001b[39;49m\u001b[43mparams\u001b[49m\u001b[43m,\u001b[49m\n\u001b[1;32m    178\u001b[0m \u001b[43m        \u001b[49m\u001b[43mproxy\u001b[49m\u001b[38;5;241;43m=\u001b[39;49m\u001b[43mproxy\u001b[49m\u001b[43m,\u001b[49m\n\u001b[1;32m    179\u001b[0m \u001b[43m        \u001b[49m\u001b[43mtimeout\u001b[49m\u001b[38;5;241;43m=\u001b[39;49m\u001b[43mtimeout\u001b[49m\n\u001b[1;32m    180\u001b[0m \u001b[43m    \u001b[49m\u001b[43m)\u001b[49m\n\u001b[1;32m    181\u001b[0m     \u001b[38;5;28;01mif\u001b[39;00m \u001b[38;5;124m\"\u001b[39m\u001b[38;5;124mWill be right back\u001b[39m\u001b[38;5;124m\"\u001b[39m \u001b[38;5;129;01min\u001b[39;00m data\u001b[38;5;241m.\u001b[39mtext \u001b[38;5;129;01mor\u001b[39;00m data \u001b[38;5;129;01mis\u001b[39;00m \u001b[38;5;28;01mNone\u001b[39;00m:\n\u001b[1;32m    182\u001b[0m         \u001b[38;5;28;01mraise\u001b[39;00m \u001b[38;5;167;01mRuntimeError\u001b[39;00m(\u001b[38;5;124m\"\u001b[39m\u001b[38;5;124m*** YAHOO! FINANCE IS CURRENTLY DOWN! ***\u001b[39m\u001b[38;5;130;01m\\n\u001b[39;00m\u001b[38;5;124m\"\u001b[39m\n\u001b[1;32m    183\u001b[0m                            \u001b[38;5;124m\"\u001b[39m\u001b[38;5;124mOur engineers are working quickly to resolve \u001b[39m\u001b[38;5;124m\"\u001b[39m\n\u001b[1;32m    184\u001b[0m                            \u001b[38;5;124m\"\u001b[39m\u001b[38;5;124mthe issue. Thank you for your patience.\u001b[39m\u001b[38;5;124m\"\u001b[39m)\n",
      "File \u001b[0;32m~/.pyenv/versions/3.11.11/lib/python3.11/site-packages/yfinance/utils.py:104\u001b[0m, in \u001b[0;36mlog_indent_decorator.<locals>.wrapper\u001b[0;34m(*args, **kwargs)\u001b[0m\n\u001b[1;32m    101\u001b[0m logger\u001b[38;5;241m.\u001b[39mdebug(\u001b[38;5;124mf\u001b[39m\u001b[38;5;124m'\u001b[39m\u001b[38;5;124mEntering \u001b[39m\u001b[38;5;132;01m{\u001b[39;00mfunc\u001b[38;5;241m.\u001b[39m\u001b[38;5;18m__name__\u001b[39m\u001b[38;5;132;01m}\u001b[39;00m\u001b[38;5;124m()\u001b[39m\u001b[38;5;124m'\u001b[39m)\n\u001b[1;32m    103\u001b[0m \u001b[38;5;28;01mwith\u001b[39;00m IndentationContext():\n\u001b[0;32m--> 104\u001b[0m     result \u001b[38;5;241m=\u001b[39m \u001b[43mfunc\u001b[49m\u001b[43m(\u001b[49m\u001b[38;5;241;43m*\u001b[39;49m\u001b[43margs\u001b[49m\u001b[43m,\u001b[49m\u001b[43m \u001b[49m\u001b[38;5;241;43m*\u001b[39;49m\u001b[38;5;241;43m*\u001b[39;49m\u001b[43mkwargs\u001b[49m\u001b[43m)\u001b[49m\n\u001b[1;32m    106\u001b[0m logger\u001b[38;5;241m.\u001b[39mdebug(\u001b[38;5;124mf\u001b[39m\u001b[38;5;124m'\u001b[39m\u001b[38;5;124mExiting \u001b[39m\u001b[38;5;132;01m{\u001b[39;00mfunc\u001b[38;5;241m.\u001b[39m\u001b[38;5;18m__name__\u001b[39m\u001b[38;5;132;01m}\u001b[39;00m\u001b[38;5;124m()\u001b[39m\u001b[38;5;124m'\u001b[39m)\n\u001b[1;32m    107\u001b[0m \u001b[38;5;28;01mreturn\u001b[39;00m result\n",
      "File \u001b[0;32m~/.pyenv/versions/3.11.11/lib/python3.11/site-packages/yfinance/data.py:335\u001b[0m, in \u001b[0;36mYfData.get\u001b[0;34m(self, url, user_agent_headers, params, proxy, timeout)\u001b[0m\n\u001b[1;32m    333\u001b[0m \u001b[38;5;129m@utils\u001b[39m\u001b[38;5;241m.\u001b[39mlog_indent_decorator\n\u001b[1;32m    334\u001b[0m \u001b[38;5;28;01mdef\u001b[39;00m\u001b[38;5;250m \u001b[39m\u001b[38;5;21mget\u001b[39m(\u001b[38;5;28mself\u001b[39m, url, user_agent_headers\u001b[38;5;241m=\u001b[39m\u001b[38;5;28;01mNone\u001b[39;00m, params\u001b[38;5;241m=\u001b[39m\u001b[38;5;28;01mNone\u001b[39;00m, proxy\u001b[38;5;241m=\u001b[39m\u001b[38;5;28;01mNone\u001b[39;00m, timeout\u001b[38;5;241m=\u001b[39m\u001b[38;5;241m30\u001b[39m):\n\u001b[0;32m--> 335\u001b[0m     \u001b[38;5;28;01mreturn\u001b[39;00m \u001b[38;5;28;43mself\u001b[39;49m\u001b[38;5;241;43m.\u001b[39;49m\u001b[43m_make_request\u001b[49m\u001b[43m(\u001b[49m\u001b[43murl\u001b[49m\u001b[43m,\u001b[49m\u001b[43m \u001b[49m\u001b[43mrequest_method\u001b[49m\u001b[43m \u001b[49m\u001b[38;5;241;43m=\u001b[39;49m\u001b[43m \u001b[49m\u001b[38;5;28;43mself\u001b[39;49m\u001b[38;5;241;43m.\u001b[39;49m\u001b[43m_session\u001b[49m\u001b[38;5;241;43m.\u001b[39;49m\u001b[43mget\u001b[49m\u001b[43m,\u001b[49m\u001b[43m \u001b[49m\u001b[43muser_agent_headers\u001b[49m\u001b[38;5;241;43m=\u001b[39;49m\u001b[43muser_agent_headers\u001b[49m\u001b[43m,\u001b[49m\u001b[43m \u001b[49m\u001b[43mparams\u001b[49m\u001b[38;5;241;43m=\u001b[39;49m\u001b[43mparams\u001b[49m\u001b[43m,\u001b[49m\u001b[43m \u001b[49m\u001b[43mproxy\u001b[49m\u001b[38;5;241;43m=\u001b[39;49m\u001b[43mproxy\u001b[49m\u001b[43m,\u001b[49m\u001b[43m \u001b[49m\u001b[43mtimeout\u001b[49m\u001b[38;5;241;43m=\u001b[39;49m\u001b[43mtimeout\u001b[49m\u001b[43m)\u001b[49m\n",
      "File \u001b[0;32m~/.pyenv/versions/3.11.11/lib/python3.11/site-packages/yfinance/utils.py:104\u001b[0m, in \u001b[0;36mlog_indent_decorator.<locals>.wrapper\u001b[0;34m(*args, **kwargs)\u001b[0m\n\u001b[1;32m    101\u001b[0m logger\u001b[38;5;241m.\u001b[39mdebug(\u001b[38;5;124mf\u001b[39m\u001b[38;5;124m'\u001b[39m\u001b[38;5;124mEntering \u001b[39m\u001b[38;5;132;01m{\u001b[39;00mfunc\u001b[38;5;241m.\u001b[39m\u001b[38;5;18m__name__\u001b[39m\u001b[38;5;132;01m}\u001b[39;00m\u001b[38;5;124m()\u001b[39m\u001b[38;5;124m'\u001b[39m)\n\u001b[1;32m    103\u001b[0m \u001b[38;5;28;01mwith\u001b[39;00m IndentationContext():\n\u001b[0;32m--> 104\u001b[0m     result \u001b[38;5;241m=\u001b[39m \u001b[43mfunc\u001b[49m\u001b[43m(\u001b[49m\u001b[38;5;241;43m*\u001b[39;49m\u001b[43margs\u001b[49m\u001b[43m,\u001b[49m\u001b[43m \u001b[49m\u001b[38;5;241;43m*\u001b[39;49m\u001b[38;5;241;43m*\u001b[39;49m\u001b[43mkwargs\u001b[49m\u001b[43m)\u001b[49m\n\u001b[1;32m    106\u001b[0m logger\u001b[38;5;241m.\u001b[39mdebug(\u001b[38;5;124mf\u001b[39m\u001b[38;5;124m'\u001b[39m\u001b[38;5;124mExiting \u001b[39m\u001b[38;5;132;01m{\u001b[39;00mfunc\u001b[38;5;241m.\u001b[39m\u001b[38;5;18m__name__\u001b[39m\u001b[38;5;132;01m}\u001b[39;00m\u001b[38;5;124m()\u001b[39m\u001b[38;5;124m'\u001b[39m)\n\u001b[1;32m    107\u001b[0m \u001b[38;5;28;01mreturn\u001b[39;00m result\n",
      "File \u001b[0;32m~/.pyenv/versions/3.11.11/lib/python3.11/site-packages/yfinance/data.py:397\u001b[0m, in \u001b[0;36mYfData._make_request\u001b[0;34m(self, url, request_method, user_agent_headers, body, params, proxy, timeout)\u001b[0m\n\u001b[1;32m    395\u001b[0m     \u001b[38;5;66;03m# Raise exception if rate limited\u001b[39;00m\n\u001b[1;32m    396\u001b[0m     \u001b[38;5;28;01mif\u001b[39;00m response\u001b[38;5;241m.\u001b[39mstatus_code \u001b[38;5;241m==\u001b[39m \u001b[38;5;241m429\u001b[39m:\n\u001b[0;32m--> 397\u001b[0m         \u001b[38;5;28;01mraise\u001b[39;00m YFRateLimitError()\n\u001b[1;32m    399\u001b[0m \u001b[38;5;28;01mreturn\u001b[39;00m response\n",
      "\u001b[0;31mYFRateLimitError\u001b[0m: Too Many Requests. Rate limited. Try after a while."
     ]
    }
   ],
   "source": [
    "# 1. Fetch stock data for NVDA\n",
    "GetNVDA = yf.Ticker(\"NVDA\")\n",
    "NVDA_data=GetNVDA.history(period=\"max\")\n",
    "NVDA_data.reset_index(inplace=True)  # Reset index to make \"Date\" a column\n",
    "NVDA_data.head()"
   ]
  },
  {
   "cell_type": "markdown",
   "metadata": {},
   "source": [
    "### Autocorrelation Analysis for Period Selection\n",
    "\n",
    "To determine the appropriate sampling periods for the time series model, I analyzed the **Autocorrelation Function (ACF)** of the data. I generated ACF plots for both the **original stock price data** and the **differenced version** to observe any significant lags or periodic patterns.\n",
    "\n",
    "Based on the results, I tested multiple sampling intervals (e.g., **5-day, 7-day, and 10-day** intervals) to find an optimal resampling frequency for the model input.\n",
    "\n",
    "Since the **TimesFM model does not require stationarity**, I decided to proceed with the **original (non-differenced) data** while keeping the selected sampling periods.\n"
   ]
  },
  {
   "cell_type": "code",
   "execution_count": 5,
   "metadata": {},
   "outputs": [
    {
     "data": {
      "text/plain": [
       "Text(0.5, 1.0, 'Difference once')"
      ]
     },
     "execution_count": 5,
     "metadata": {},
     "output_type": "execute_result"
    },
    {
     "data": {
      "image/png": "[encoded data removed]",
      "text/plain": [
       "<Figure size 1600x400 with 2 Axes>"
      ]
     },
     "metadata": {},
     "output_type": "display_data"
    }
   ],
   "source": [
    "from statsmodels.graphics.tsaplots import plot_acf\n",
    "\n",
    "price = NVDA_data[\"Close\"]\n",
    "fig, (ax1, ax2 ) = plt.subplots(1, 2, figsize=(16, 4))\n",
    "price_diff = price.diff().dropna()\n",
    "\n",
    "\n",
    "plot_acf(price, lags=50, ax=ax1)  # Check autocorrelation\n",
    "plot_acf(price_diff, lags=50, ax=ax2)\n",
    "ax2.set_title(\"Difference once\")"
   ]
  },
  {
   "cell_type": "code",
   "execution_count": 6,
   "metadata": {},
   "outputs": [
    {
     "name": "stdout",
     "output_type": "stream",
     "text": [
      "Sampling every 5 days: 1310 samples remaining\n",
      "Sampling every 7 days: 936 samples remaining\n",
      "Sampling every 10 days: 655 samples remaining\n",
      "Sampling every 14 days: 468 samples remaining\n",
      "Sampling every 20 days: 328 samples remaining\n"
     ]
    }
   ],
   "source": [
    "# To check if the number of samples is enough\n",
    "for days in [5, 7, 10, 14, 20]:\n",
    "    print(f\"Sampling every {days} days: {len(price.values[::days])} samples remaining\")"
   ]
  },
  {
   "cell_type": "code",
   "execution_count": 7,
   "metadata": {},
   "outputs": [],
   "source": [
    "# 2. Prepare input data (resample and ensure 1D)\n",
    "forecast_input = [\n",
    "    np.array(price.values[::5]).flatten(),   # Every 5th day\n",
    "    np.array(price.values[::7]).flatten(),  # Every 7th day\n",
    "    np.array(price.values[::10]).flatten(),  # Every 10th day\n",
    "]\n",
    "\n",
    "# 3. Ensure all arrays have the same length\n",
    "min_length = min(len(arr) for arr in forecast_input)\n",
    "forecast_input = [arr[:min_length] for arr in forecast_input]"
   ]
  },
  {
   "cell_type": "markdown",
   "metadata": {},
   "source": [
    "### Determining of the frequency input\n",
    "In particular regarding the frequency, TimesFM expects a categorical indicator valued in {0, 1, 2}:\n",
    "\n",
    "- 0 (default): high frequency, long horizon time series. We recommend using this for time series up to daily granularity.\n",
    "- 1: medium frequency time series. We recommend using this for weekly and monthly data.\n",
    "- 2: low frequency, short horizon time series. We recommend using this for anything beyond monthly, e.g. quarterly or yearly.\n",
    "This categorical value should be directly provided with the array inputs. For dataframe inputs, we convert the conventional letter coding of frequencies to our expected categories, that\n",
    "\n",
    "0: T, MIN, H, D, B, U\n",
    "\n",
    "1: W, M\n",
    "\n",
    "2: Q, Y"
   ]
  },
  {
   "cell_type": "code",
   "execution_count": 8,
   "metadata": {},
   "outputs": [],
   "source": [
    "# 4. Frequency input \n",
    "frequency_input = [0]"
   ]
  },
  {
   "cell_type": "code",
   "execution_count": 9,
   "metadata": {},
   "outputs": [
    {
     "name": "stdout",
     "output_type": "stream",
     "text": [
      "Processing dataframe with multiple processes.\n",
      " See https://github.com/google-research/timesfm/blob/master/README.md for updated APIs.\n",
      "Loaded PyTorch TimesFM, likely because python version is 3.11.11 (main, Jan 27 2025, 15:58:08) [Clang 16.0.0 (clang-1600.0.26.6)].\n",
      "Finished preprocessing dataframe.\n",
      "Finished forecasting.\n",
      "   unique_id                        ds     timesfm  timesfm-q-0.1  \\\n",
      "0       NVDA 2025-02-04 00:00:00-05:00  119.249527     111.743637   \n",
      "1       NVDA 2025-02-05 00:00:00-05:00  118.394989     109.109192   \n",
      "2       NVDA 2025-02-06 00:00:00-05:00  118.093658     107.389053   \n",
      "3       NVDA 2025-02-07 00:00:00-05:00  117.423599     106.305588   \n",
      "4       NVDA 2025-02-08 00:00:00-05:00  117.634186     105.265717   \n",
      "5       NVDA 2025-02-09 00:00:00-05:00  118.178589     105.193024   \n",
      "6       NVDA 2025-02-10 00:00:00-05:00  117.058395     103.439468   \n",
      "7       NVDA 2025-02-11 00:00:00-05:00  116.192078     101.320206   \n",
      "8       NVDA 2025-02-12 00:00:00-05:00  116.095306     100.337250   \n",
      "9       NVDA 2025-02-13 00:00:00-05:00  115.505157      98.505783   \n",
      "10      NVDA 2025-02-14 00:00:00-05:00  114.636780      96.975403   \n",
      "11      NVDA 2025-02-15 00:00:00-05:00  113.832260      95.050003   \n",
      "12      NVDA 2025-02-16 00:00:00-05:00  114.889420      94.746124   \n",
      "13      NVDA 2025-02-17 00:00:00-05:00  114.747604      94.599060   \n",
      "14      NVDA 2025-02-18 00:00:00-05:00  115.591537      94.152695   \n",
      "15      NVDA 2025-02-19 00:00:00-05:00  114.922226      93.363419   \n",
      "16      NVDA 2025-02-20 00:00:00-05:00  114.163651      90.895020   \n",
      "17      NVDA 2025-02-21 00:00:00-05:00  114.095398      90.849655   \n",
      "18      NVDA 2025-02-22 00:00:00-05:00  113.042908      89.585831   \n",
      "19      NVDA 2025-02-23 00:00:00-05:00  112.627869      88.901581   \n",
      "20      NVDA 2025-02-24 00:00:00-05:00  112.390533      88.347824   \n",
      "21      NVDA 2025-02-25 00:00:00-05:00  112.633652      87.667053   \n",
      "22      NVDA 2025-02-26 00:00:00-05:00  111.680832      86.489883   \n",
      "23      NVDA 2025-02-27 00:00:00-05:00  111.112564      85.373367   \n",
      "24      NVDA 2025-02-28 00:00:00-05:00  110.370651      84.118515   \n",
      "25      NVDA 2025-03-01 00:00:00-05:00  109.604004      82.431412   \n",
      "26      NVDA 2025-03-02 00:00:00-05:00  109.277939      81.314682   \n",
      "27      NVDA 2025-03-03 00:00:00-05:00  108.577164      80.711502   \n",
      "28      NVDA 2025-03-04 00:00:00-05:00  107.831192      79.245178   \n",
      "29      NVDA 2025-03-05 00:00:00-05:00  107.242828      78.461868   \n",
      "30      NVDA 2025-03-06 00:00:00-05:00  107.725052      78.145050   \n",
      "31      NVDA 2025-03-07 00:00:00-05:00  107.571274      77.784180   \n",
      "32      NVDA 2025-03-08 00:00:00-05:00  108.334564      77.300461   \n",
      "33      NVDA 2025-03-09 00:00:00-05:00  107.943069      76.576126   \n",
      "34      NVDA 2025-03-10 01:00:00-04:00  107.280640      76.204269   \n",
      "35      NVDA 2025-03-11 01:00:00-04:00  107.395065      76.190613   \n",
      "36      NVDA 2025-03-12 01:00:00-04:00  107.739578      75.979126   \n",
      "37      NVDA 2025-03-13 01:00:00-04:00  107.861359      76.221191   \n",
      "38      NVDA 2025-03-14 01:00:00-04:00  108.245041      75.914917   \n",
      "39      NVDA 2025-03-15 01:00:00-04:00  108.221100      75.613174   \n",
      "40      NVDA 2025-03-16 01:00:00-04:00  109.293564      76.089722   \n",
      "41      NVDA 2025-03-17 01:00:00-04:00  108.783371      76.162079   \n",
      "42      NVDA 2025-03-18 01:00:00-04:00  107.052155      73.668671   \n",
      "43      NVDA 2025-03-19 01:00:00-04:00  106.112717      71.934906   \n",
      "44      NVDA 2025-03-20 01:00:00-04:00  106.441895      71.901138   \n",
      "45      NVDA 2025-03-21 01:00:00-04:00  106.439957      71.582535   \n",
      "46      NVDA 2025-03-22 01:00:00-04:00  106.044830      71.148590   \n",
      "47      NVDA 2025-03-23 01:00:00-04:00  105.061813      69.802292   \n",
      "48      NVDA 2025-03-24 01:00:00-04:00  106.194412      70.492599   \n",
      "49      NVDA 2025-03-25 01:00:00-04:00  105.645782      69.185913   \n",
      "\n",
      "    timesfm-q-0.2  timesfm-q-0.3  timesfm-q-0.4  timesfm-q-0.5  timesfm-q-0.6  \\\n",
      "0      114.802032     116.557404     118.065445     119.249527     120.621170   \n",
      "1      112.742096     115.058334     116.938843     118.394989     120.275635   \n",
      "2      111.476883     114.050629     116.110947     118.093658     119.980042   \n",
      "3      110.710785     113.492828     115.654205     117.423599     119.561600   \n",
      "4      109.945206     112.995544     115.614304     117.634186     120.052429   \n",
      "5      109.875137     113.120102     115.830185     118.178589     120.609024   \n",
      "6      108.325378     111.608780     114.586166     117.058395     119.689926   \n",
      "7      106.643997     110.212814     113.371048     116.192078     119.009003   \n",
      "8      105.895172     109.661316     113.095917     116.095306     119.263382   \n",
      "9      104.595078     108.762955     112.356171     115.505157     118.871475   \n",
      "10     103.385406     107.517670     111.268082     114.636780     117.909500   \n",
      "11     102.056549     106.529175     110.463882     113.832260     117.357193   \n",
      "12     102.472748     107.304199     111.205124     114.889420     118.756729   \n",
      "13     102.229553     107.032593     111.110306     114.747604     118.676407   \n",
      "14     102.166336     107.293182     111.639206     115.591537     119.749893   \n",
      "15     101.402557     106.533752     110.753387     114.922226     119.024384   \n",
      "16      99.875778     105.349670     109.955063     114.163651     118.720657   \n",
      "17      99.665390     105.197205     109.836105     114.095398     118.459488   \n",
      "18      98.532486     104.126373     108.690933     113.042908     117.339737   \n",
      "19      98.073441     103.815948     108.361496     112.627869     117.182205   \n",
      "20      97.565460     103.341858     107.990433     112.390533     117.088943   \n",
      "21      97.082825     103.131104     107.964478     112.633652     117.469788   \n",
      "22      95.931625     102.128387     107.069138     111.680832     116.606613   \n",
      "23      95.021194     101.235092     106.413162     111.112564     116.171097   \n",
      "24      93.859192     100.242706     105.315933     110.370651     115.674759   \n",
      "25      92.470688      99.124771     104.458893     109.604004     115.209290   \n",
      "26      91.764175      98.380875     103.982529     109.277939     114.890930   \n",
      "27      91.011993      97.742630     103.310516     108.577164     114.326279   \n",
      "28      89.665512      96.518082     102.369186     107.831192     113.937637   \n",
      "29      88.905197      95.972183     101.815689     107.242828     113.309204   \n",
      "30      88.949020      96.083466     102.127899     107.725052     113.766937   \n",
      "31      88.554932      95.856476     102.014130     107.571274     113.754059   \n",
      "32      88.429688      95.936218     102.395447     108.334564     114.649643   \n",
      "33      87.904831      95.583008     102.048889     107.943069     114.078033   \n",
      "34      87.402130      94.982056     101.382217     107.280640     113.619019   \n",
      "35      87.501251      94.991898     101.380142     107.395065     113.711594   \n",
      "36      87.504196      95.188324     101.680954     107.739578     114.219009   \n",
      "37      87.603973      95.311829     101.720505     107.861359     114.329681   \n",
      "38      87.681564      95.505112     102.118057     108.245041     114.861633   \n",
      "39      87.282928      95.248688     101.938828     108.221100     114.934143   \n",
      "40      87.960342      96.019424     102.882111     109.293564     116.184769   \n",
      "41      87.725098      95.694107     102.489487     108.783371     115.605042   \n",
      "42      85.444229      93.516022     100.608459     107.052155     114.048676   \n",
      "43      84.071808      92.512619      99.601761     106.112717     113.173477   \n",
      "44      84.167343      92.701080      99.778290     106.441895     113.484543   \n",
      "45      84.051285      92.511719      99.818344     106.439957     113.429108   \n",
      "46      83.331436      92.000656      99.336716     106.044830     113.055328   \n",
      "47      82.221283      90.813431      98.032166     105.061813     112.129837   \n",
      "48      83.002411      91.831512      99.286331     106.194412     113.411133   \n",
      "49      81.971909      90.854477      98.574066     105.645782     113.201279   \n",
      "\n",
      "    timesfm-q-0.7  timesfm-q-0.8  timesfm-q-0.9  \n",
      "0      122.238251     124.801315     128.482483  \n",
      "1      122.182007     124.825653     128.600159  \n",
      "2      122.261154     125.051453     129.247925  \n",
      "3      121.852982     124.866531     129.490921  \n",
      "4      122.699615     126.135406     131.146164  \n",
      "5      123.478714     127.059570     132.362259  \n",
      "6      122.819534     126.717636     132.472107  \n",
      "7      122.305481     126.299805     132.344482  \n",
      "8      122.813385     127.196426     133.616898  \n",
      "9      122.447098     126.884308     133.479584  \n",
      "10     121.829727     126.327301     133.367004  \n",
      "11     121.446808     126.509048     134.175873  \n",
      "12     122.991821     128.411972     136.078293  \n",
      "13     123.295242     128.757492     136.605042  \n",
      "14     124.427673     130.185226     138.778412  \n",
      "15     123.960800     129.844513     138.743439  \n",
      "16     123.668243     129.801956     138.755859  \n",
      "17     123.447128     129.683640     138.802994  \n",
      "18     122.485413     128.729050     137.866272  \n",
      "19     122.462173     129.043106     138.439743  \n",
      "20     122.519409     129.171143     139.094711  \n",
      "21     123.021698     129.640610     140.155106  \n",
      "22     122.430573     129.405090     140.180267  \n",
      "23     122.239700     129.320297     140.001007  \n",
      "24     121.844543     129.239746     140.334381  \n",
      "25     121.574402     129.147720     140.154953  \n",
      "26     121.361511     129.147629     140.459671  \n",
      "27     120.796082     128.887421     140.752838  \n",
      "28     120.622345     128.866714     140.988922  \n",
      "29     120.237274     128.553528     140.947891  \n",
      "30     120.789886     129.228668     141.671112  \n",
      "31     120.820511     129.288406     141.875000  \n",
      "32     121.761261     130.441589     142.980377  \n",
      "33     121.178482     129.800385     142.586517  \n",
      "34     120.699936     129.389557     142.179001  \n",
      "35     120.884003     129.725952     142.612320  \n",
      "36     121.696381     130.784073     144.125977  \n",
      "37     121.831818     131.035309     144.374893  \n",
      "38     122.549118     131.831070     145.385269  \n",
      "39     122.686188     132.346558     146.419357  \n",
      "40     124.127380     134.081253     148.091248  \n",
      "41     123.663101     133.432922     147.852509  \n",
      "42     122.211456     132.466156     147.326828  \n",
      "43     121.409073     131.587509     146.358444  \n",
      "44     121.786346     132.080338     146.856598  \n",
      "45     121.587006     131.643494     146.087524  \n",
      "46     121.344589     131.629471     146.505081  \n",
      "47     120.625961     131.032471     146.198059  \n",
      "48     121.984207     132.750214     148.205536  \n",
      "49     121.872330     132.715439     148.728760  \n"
     ]
    }
   ],
   "source": [
    "#5. Build input dataframe for TimesFM\n",
    "# Create the dataframe in the format required by TimesFM\n",
    "input_df = pd.DataFrame({\n",
    "    \"unique_id\": [\"NVDA\"] * len(NVDA_data),  # Use \"NVDA\" as the unique identifier\n",
    "    \"ds\": NVDA_data[\"Date\"],                # Date column\n",
    "    \"y\": NVDA_data[\"Close\"]                 # Closing price\n",
    "})\n",
    "\n",
    "# 3. Ensure y values are 1-dimensional\n",
    "# Flatten y to ensure it is a 1D array\n",
    "input_df[\"y\"] = input_df[\"y\"].values.flatten()\n",
    "\n",
    "\n",
    "# 6. Forecast using TimesFM\n",
    "# Pass the input dataframe to the TimesFM model for forecasting\n",
    "forecast_df = tfm.forecast_on_df(\n",
    "    inputs=input_df,  # Input dataframe\n",
    "    freq=\"D\",         # Daily frequency\n",
    "    value_name=\"y\",   # The column to predict\n",
    "    num_jobs=-1       # Use all available cores for parallel processing\n",
    ")\n",
    "\n",
    "# 7. Display forecast results\n",
    "print(forecast_df)\n"
   ]
  },
  {
   "cell_type": "markdown",
   "metadata": {},
   "source": [
    "# TimesFM Forecast Interpretation\n",
    "The forecast results include multiple columns that represent the predicted values and their uncertainty ranges. Here's how to interpret the key columns:\n",
    "\n",
    "\n",
    "- timesfm: Median prediction (most likely value).\n",
    "\n",
    "- timesfm-q-0.1: 10% quantile prediction (lower range of uncertainty).\n",
    "\n",
    "- timesfm-q-0.5: 50% quantile prediction (equivalent to timesfm median).\n",
    "\n",
    "- timesfm-q-0.9: 90% quantile prediction (higher range of uncertainty, if available).\n",
    "\n",
    "\n",
    "<Example Interpretation: > \n",
    "For a given date (e.g., 2025-01-28):\n",
    "\n",
    "- Median prediction (timesfm): 393.19 → The most likely stock price.\n",
    "\n",
    "- 10% quantile (timesfm-q-0.1): 371.13 → Lower bound of the range.\n",
    "\n",
    "- 50% quantile (timesfm-q-0.5): 393.19 → The central prediction (same as timesfm).\n",
    "\n",
    "- 90% quantile: (if present) Higher bound of the range."
   ]
  },
  {
   "cell_type": "code",
   "execution_count": 10,
   "metadata": {},
   "outputs": [
    {
     "data": {
      "image/png": "[encoded data removed]",
      "text/plain": [
       "<Figure size 1200x400 with 1 Axes>"
      ]
     },
     "metadata": {},
     "output_type": "display_data"
    }
   ],
   "source": [
    "import matplotlib.pyplot as plt\n",
    "\n",
    "plt.figure(figsize=(12,4))\n",
    "plt.plot(forecast_df[\"ds\"], forecast_df[\"timesfm\"], label=\"Median Prediction\", color=\"blue\")\n",
    "plt.fill_between(\n",
    "    forecast_df[\"ds\"],\n",
    "    forecast_df[\"timesfm-q-0.1\"],\n",
    "    forecast_df[\"timesfm-q-0.9\"],\n",
    "    color=\"blue\",\n",
    "    alpha=0.2,\n",
    "    label=\"40%-60% Interval\"\n",
    ")\n",
    "plt.xlabel(\"Date\")\n",
    "plt.ylabel(\"Stock Price\")\n",
    "plt.title(\"Nvidia Stock Price Forecast\")\n",
    "plt.legend()\n",
    "plt.show()\n"
   ]
  },
  {
   "cell_type": "markdown",
   "metadata": {},
   "source": [
    "# Predicting Tomorrow's NVDA stock price"
   ]
  },
  {
   "cell_type": "code",
   "execution_count": 11,
   "metadata": {},
   "outputs": [
    {
     "name": "stdout",
     "output_type": "stream",
     "text": [
      "  unique_id                        ds     timesfm  timesfm-q-0.1  \\\n",
      "1      NVDA 2025-02-05 00:00:00-05:00  118.394989     109.109192   \n",
      "\n",
      "   timesfm-q-0.2  timesfm-q-0.3  timesfm-q-0.4  timesfm-q-0.5  timesfm-q-0.6  \\\n",
      "1     112.742096     115.058334     116.938843     118.394989     120.275635   \n",
      "\n",
      "   timesfm-q-0.7  timesfm-q-0.8  timesfm-q-0.9  \n",
      "1     122.182007     124.825653     128.600159  \n"
     ]
    }
   ],
   "source": [
    "from datetime import datetime, timedelta\n",
    "\n",
    "# Generate the next day's datetime\n",
    "today = datetime.today()\n",
    "tmr = (today + timedelta(days=1)).date()  \n",
    "\n",
    "# Ensure both tmr and forecast_df[\"ds\"] are datetime\n",
    "forecast_df[\"ds\"] = pd.to_datetime(forecast_df[\"ds\"])  # Convert to datetime\n",
    "filtered_df = forecast_df[forecast_df[\"ds\"].dt.date == tmr]  # Compare dates directly\n",
    "\n",
    "print(filtered_df)"
   ]
  },
  {
   "cell_type": "code",
   "execution_count": 12,
   "metadata": {},
   "outputs": [
    {
     "name": "stdout",
     "output_type": "stream",
     "text": [
      "2025-02-05\n"
     ]
    }
   ],
   "source": [
    "print(tmr)"
   ]
  },
  {
   "cell_type": "markdown",
   "metadata": {},
   "source": [
    "### 1. Split the data 2010-2024 - to train, 2025 to predict "
   ]
  },
  {
   "cell_type": "code",
   "execution_count": 13,
   "metadata": {},
   "outputs": [
    {
     "data": {
      "text/html": [
       "<div>\n",
       "<style scoped>\n",
       "    .dataframe tbody tr th:only-of-type {\n",
       "        vertical-align: middle;\n",
       "    }\n",
       "\n",
       "    .dataframe tbody tr th {\n",
       "        vertical-align: top;\n",
       "    }\n",
       "\n",
       "    .dataframe thead th {\n",
       "        text-align: right;\n",
       "    }\n",
       "</style>\n",
       "<table border=\"1\" class=\"dataframe\">\n",
       "  <thead>\n",
       "    <tr style=\"text-align: right;\">\n",
       "      <th></th>\n",
       "      <th>Open</th>\n",
       "      <th>High</th>\n",
       "      <th>Low</th>\n",
       "      <th>Close</th>\n",
       "      <th>Volume</th>\n",
       "      <th>Dividends</th>\n",
       "      <th>Stock Splits</th>\n",
       "    </tr>\n",
       "    <tr>\n",
       "      <th>Date</th>\n",
       "      <th></th>\n",
       "      <th></th>\n",
       "      <th></th>\n",
       "      <th></th>\n",
       "      <th></th>\n",
       "      <th></th>\n",
       "      <th></th>\n",
       "    </tr>\n",
       "  </thead>\n",
       "  <tbody>\n",
       "    <tr>\n",
       "      <th>2010-06-29 00:00:00-04:00</th>\n",
       "      <td>0.248989</td>\n",
       "      <td>0.249218</td>\n",
       "      <td>0.238671</td>\n",
       "      <td>0.240276</td>\n",
       "      <td>660808000</td>\n",
       "      <td>0.0</td>\n",
       "      <td>0.0</td>\n",
       "    </tr>\n",
       "    <tr>\n",
       "      <th>2010-06-30 00:00:00-04:00</th>\n",
       "      <td>0.240735</td>\n",
       "      <td>0.243257</td>\n",
       "      <td>0.234086</td>\n",
       "      <td>0.234086</td>\n",
       "      <td>623072000</td>\n",
       "      <td>0.0</td>\n",
       "      <td>0.0</td>\n",
       "    </tr>\n",
       "    <tr>\n",
       "      <th>2010-07-01 00:00:00-04:00</th>\n",
       "      <td>0.234774</td>\n",
       "      <td>0.239589</td>\n",
       "      <td>0.227666</td>\n",
       "      <td>0.237984</td>\n",
       "      <td>737008000</td>\n",
       "      <td>0.0</td>\n",
       "      <td>0.0</td>\n",
       "    </tr>\n",
       "    <tr>\n",
       "      <th>2010-07-02 00:00:00-04:00</th>\n",
       "      <td>0.238901</td>\n",
       "      <td>0.239359</td>\n",
       "      <td>0.226979</td>\n",
       "      <td>0.235003</td>\n",
       "      <td>737096000</td>\n",
       "      <td>0.0</td>\n",
       "      <td>0.0</td>\n",
       "    </tr>\n",
       "    <tr>\n",
       "      <th>2010-07-06 00:00:00-04:00</th>\n",
       "      <td>0.234086</td>\n",
       "      <td>0.241652</td>\n",
       "      <td>0.230418</td>\n",
       "      <td>0.232481</td>\n",
       "      <td>712020000</td>\n",
       "      <td>0.0</td>\n",
       "      <td>0.0</td>\n",
       "    </tr>\n",
       "  </tbody>\n",
       "</table>\n",
       "</div>"
      ],
      "text/plain": [
       "                               Open      High       Low     Close     Volume  \\\n",
       "Date                                                                           \n",
       "2010-06-29 00:00:00-04:00  0.248989  0.249218  0.238671  0.240276  660808000   \n",
       "2010-06-30 00:00:00-04:00  0.240735  0.243257  0.234086  0.234086  623072000   \n",
       "2010-07-01 00:00:00-04:00  0.234774  0.239589  0.227666  0.237984  737008000   \n",
       "2010-07-02 00:00:00-04:00  0.238901  0.239359  0.226979  0.235003  737096000   \n",
       "2010-07-06 00:00:00-04:00  0.234086  0.241652  0.230418  0.232481  712020000   \n",
       "\n",
       "                           Dividends  Stock Splits  \n",
       "Date                                                \n",
       "2010-06-29 00:00:00-04:00        0.0           0.0  \n",
       "2010-06-30 00:00:00-04:00        0.0           0.0  \n",
       "2010-07-01 00:00:00-04:00        0.0           0.0  \n",
       "2010-07-02 00:00:00-04:00        0.0           0.0  \n",
       "2010-07-06 00:00:00-04:00        0.0           0.0  "
      ]
     },
     "execution_count": 13,
     "metadata": {},
     "output_type": "execute_result"
    }
   ],
   "source": [
    "# NVDA_data.head()\n",
    "\n",
    "GetNVDA = yf.Ticker(\"NVDA\")\n",
    "NVDA_data=GetNVDA.history(period=\"max\")\n",
    "\n",
    "train=NVDA_data.loc['2010-06-29':'2024-12-31']\n",
    "test=NVDA_data.loc['2025-01-01':'2025-12-31']\n",
    "\n",
    "train.head()"
   ]
  },
  {
   "cell_type": "code",
   "execution_count": 14,
   "metadata": {},
   "outputs": [
    {
     "name": "stdout",
     "output_type": "stream",
     "text": [
      "3652 21\n"
     ]
    }
   ],
   "source": [
    "# the number of test, train\n",
    "print(len(train), len(test))"
   ]
  },
  {
   "cell_type": "code",
   "execution_count": 15,
   "metadata": {},
   "outputs": [
    {
     "name": "stdout",
     "output_type": "stream",
     "text": [
      "Processing dataframe with multiple processes.\n",
      " See https://github.com/google-research/timesfm/blob/master/README.md for updated APIs.\n",
      "Loaded PyTorch TimesFM, likely because python version is 3.11.11 (main, Jan 27 2025, 15:58:08) [Clang 16.0.0 (clang-1600.0.26.6)].\n",
      "Finished preprocessing dataframe.\n",
      "Finished forecasting.\n",
      "   unique_id                        ds     timesfm  timesfm-q-0.1  \\\n",
      "0       NVDA 2025-01-01 00:00:00-05:00  137.756973     132.145859   \n",
      "1       NVDA 2025-01-02 00:00:00-05:00  137.288910     130.983017   \n",
      "2       NVDA 2025-01-03 00:00:00-05:00  136.795456     129.334259   \n",
      "3       NVDA 2025-01-04 00:00:00-05:00  136.864578     128.629837   \n",
      "4       NVDA 2025-01-05 00:00:00-05:00  137.929047     128.422775   \n",
      "5       NVDA 2025-01-06 00:00:00-05:00  138.109024     127.926231   \n",
      "6       NVDA 2025-01-07 00:00:00-05:00  138.281158     127.649292   \n",
      "7       NVDA 2025-01-08 00:00:00-05:00  138.029556     126.818810   \n",
      "8       NVDA 2025-01-09 00:00:00-05:00  138.608765     126.582275   \n",
      "9       NVDA 2025-01-10 00:00:00-05:00  138.774734     126.111069   \n",
      "10      NVDA 2025-01-11 00:00:00-05:00  139.192825     125.477295   \n",
      "11      NVDA 2025-01-12 00:00:00-05:00  139.043091     124.315666   \n",
      "12      NVDA 2025-01-13 00:00:00-05:00  139.696899     124.344658   \n",
      "13      NVDA 2025-01-14 00:00:00-05:00  139.531952     124.180229   \n",
      "14      NVDA 2025-01-15 00:00:00-05:00  140.335144     123.896606   \n",
      "15      NVDA 2025-01-16 00:00:00-05:00  140.749435     123.599884   \n",
      "16      NVDA 2025-01-17 00:00:00-05:00  141.401947     122.691467   \n",
      "17      NVDA 2025-01-18 00:00:00-05:00  141.759064     122.489876   \n",
      "18      NVDA 2025-01-19 00:00:00-05:00  142.255157     122.574982   \n",
      "19      NVDA 2025-01-20 00:00:00-05:00  142.157196     122.420135   \n",
      "20      NVDA 2025-01-21 00:00:00-05:00  142.404343     122.196556   \n",
      "21      NVDA 2025-01-22 00:00:00-05:00  143.052094     122.355011   \n",
      "22      NVDA 2025-01-23 00:00:00-05:00  142.553467     121.515823   \n",
      "23      NVDA 2025-01-24 00:00:00-05:00  142.675095     121.105988   \n",
      "24      NVDA 2025-01-25 00:00:00-05:00  143.022141     120.970367   \n",
      "25      NVDA 2025-01-26 00:00:00-05:00  142.608505     120.459373   \n",
      "26      NVDA 2025-01-27 00:00:00-05:00  142.338760     119.635269   \n",
      "27      NVDA 2025-01-28 00:00:00-05:00  142.240952     119.089073   \n",
      "28      NVDA 2025-01-29 00:00:00-05:00  142.577866     118.537163   \n",
      "29      NVDA 2025-01-30 00:00:00-05:00  142.116409     117.807816   \n",
      "30      NVDA 2025-01-31 00:00:00-05:00  142.317657     117.417336   \n",
      "31      NVDA 2025-02-01 00:00:00-05:00  141.850494     116.958427   \n",
      "32      NVDA 2025-02-02 00:00:00-05:00  141.784607     116.431000   \n",
      "33      NVDA 2025-02-03 00:00:00-05:00  141.536880     116.229927   \n",
      "34      NVDA 2025-02-04 00:00:00-05:00  141.084290     115.618919   \n",
      "35      NVDA 2025-02-05 00:00:00-05:00  141.093918     115.189590   \n",
      "36      NVDA 2025-02-06 00:00:00-05:00  140.912231     114.302399   \n",
      "37      NVDA 2025-02-07 00:00:00-05:00  140.528961     113.877213   \n",
      "38      NVDA 2025-02-08 00:00:00-05:00  140.693039     113.320038   \n",
      "39      NVDA 2025-02-09 00:00:00-05:00  140.637634     112.951561   \n",
      "40      NVDA 2025-02-10 00:00:00-05:00  140.630890     112.520508   \n",
      "41      NVDA 2025-02-11 00:00:00-05:00  140.310898     112.351418   \n",
      "42      NVDA 2025-02-12 00:00:00-05:00  140.481232     111.910416   \n",
      "43      NVDA 2025-02-13 00:00:00-05:00  139.646988     110.510445   \n",
      "44      NVDA 2025-02-14 00:00:00-05:00  139.774429     110.155090   \n",
      "45      NVDA 2025-02-15 00:00:00-05:00  140.527023     110.568558   \n",
      "46      NVDA 2025-02-16 00:00:00-05:00  140.309738     110.275169   \n",
      "47      NVDA 2025-02-17 00:00:00-05:00  140.049194     109.872688   \n",
      "48      NVDA 2025-02-18 00:00:00-05:00  140.573395     110.471962   \n",
      "49      NVDA 2025-02-19 00:00:00-05:00  140.256119     109.880264   \n",
      "\n",
      "    timesfm-q-0.2  timesfm-q-0.3  timesfm-q-0.4  timesfm-q-0.5  timesfm-q-0.6  \\\n",
      "0      134.041183     135.336212     136.650146     137.756973     139.031113   \n",
      "1      133.012421     134.621506     136.095673     137.288910     138.856598   \n",
      "2      131.793472     133.516052     135.203644     136.795456     138.395203   \n",
      "3      131.494736     133.466675     135.306503     136.864578     138.657364   \n",
      "4      131.869308     134.080505     136.221497     137.929047     139.842560   \n",
      "5      131.581116     134.011597     136.180252     138.109024     140.100525   \n",
      "6      131.555496     133.934158     136.302490     138.281158     140.376434   \n",
      "7      130.971817     133.500015     135.904251     138.029556     140.201904   \n",
      "8      131.032608     133.786896     136.344116     138.608765     140.923355   \n",
      "9      130.893311     133.828110     136.479599     138.774734     141.315125   \n",
      "10     130.791107     133.858398     136.709137     139.192825     141.701477   \n",
      "11     130.176117     133.488327     136.469025     139.043091     141.718658   \n",
      "12     130.523346     134.093948     136.989487     139.696899     142.517929   \n",
      "13     130.295547     133.809769     136.842621     139.531952     142.391922   \n",
      "14     130.384354     134.212021     137.462021     140.335144     143.463776   \n",
      "15     130.396423     134.405823     137.740402     140.749435     143.902390   \n",
      "16     130.197784     134.583832     138.215240     141.401947     144.798691   \n",
      "17     130.178345     134.739746     138.472549     141.759064     145.232224   \n",
      "18     130.427673     135.059906     138.807373     142.255157     145.800217   \n",
      "19     130.374268     135.116653     138.857620     142.157196     145.821457   \n",
      "20     130.355453     135.141708     138.992020     142.404343     146.084686   \n",
      "21     130.642059     135.575592     139.430954     143.052094     146.869965   \n",
      "22     129.839188     134.928238     138.934189     142.553467     146.484039   \n",
      "23     129.544128     134.721741     138.971420     142.675095     146.716354   \n",
      "24     129.563995     134.850510     139.018356     143.022141     147.154205   \n",
      "25     129.059647     134.332672     138.639771     142.608505     146.907745   \n",
      "26     128.531540     133.905563     138.309967     142.338760     146.720093   \n",
      "27     128.133270     133.669724     138.194809     142.240952     146.788193   \n",
      "28     127.892075     133.640686     138.389374     142.577866     147.284012   \n",
      "29     127.161606     133.094650     137.846909     142.116409     146.837646   \n",
      "30     126.985733     132.980209     137.876953     142.317657     147.080017   \n",
      "31     126.583199     132.584198     137.553360     141.850494     146.712662   \n",
      "32     126.058525     132.155655     137.230057     141.784607     146.642899   \n",
      "33     125.877182     131.956314     137.019974     141.536880     146.314362   \n",
      "34     125.278404     131.381927     136.465561     141.084290     146.012299   \n",
      "35     124.963646     131.107178     136.293747     141.093918     146.135880   \n",
      "36     124.419441     130.814392     136.103821     140.912231     146.071899   \n",
      "37     123.981987     130.362778     135.633560     140.528961     145.662888   \n",
      "38     123.707581     130.271561     135.761124     140.693039     145.980499   \n",
      "39     123.420296     130.137421     135.650513     140.637634     145.933258   \n",
      "40     123.129936     129.935074     135.556747     140.630890     146.077408   \n",
      "41     122.818039     129.563309     135.247833     140.310898     145.669739   \n",
      "42     122.527390     129.455719     135.329834     140.481232     146.090820   \n",
      "43     121.485832     128.647842     134.490295     139.646988     145.293777   \n",
      "44     121.366295     128.618195     134.487808     139.774429     145.518768   \n",
      "45     121.846130     129.111938     135.146713     140.527023     146.227829   \n",
      "46     121.461067     128.776031     134.905579     140.309738     146.022537   \n",
      "47     121.161804     128.408264     134.434967     140.049194     145.672577   \n",
      "48     121.653786     128.988861     135.092560     140.573395     146.184418   \n",
      "49     121.201668     128.476532     134.683029     140.256119     146.143799   \n",
      "\n",
      "    timesfm-q-0.7  timesfm-q-0.8  timesfm-q-0.9  \n",
      "0      140.258148     141.955353     144.724396  \n",
      "1      140.355087     142.256134     145.206177  \n",
      "2      140.277069     142.353836     145.699203  \n",
      "3      140.461044     142.690613     146.445160  \n",
      "4      141.888138     144.271301     148.286453  \n",
      "5      142.207794     144.724640     149.009201  \n",
      "6      142.698654     145.546738     150.291656  \n",
      "7      142.638290     145.597610     150.653702  \n",
      "8      143.526764     146.744522     152.149307  \n",
      "9      143.993805     147.389160     153.104477  \n",
      "10     144.646317     148.159439     154.116623  \n",
      "11     144.770416     148.628067     155.032974  \n",
      "12     145.634415     149.569321     156.045258  \n",
      "13     145.815048     149.914703     156.760925  \n",
      "14     146.970581     151.346970     158.808792  \n",
      "15     147.572891     152.127792     159.846619  \n",
      "16     148.467422     153.156906     160.878983  \n",
      "17     149.053146     153.923141     161.969849  \n",
      "18     149.800049     154.887802     163.091370  \n",
      "19     149.915268     155.160278     163.496964  \n",
      "20     150.379974     155.646561     164.212006  \n",
      "21     151.316345     156.610413     165.516968  \n",
      "22     151.066223     156.582687     165.550308  \n",
      "23     151.497818     157.090775     166.067459  \n",
      "24     151.917770     157.651443     166.857880  \n",
      "25     151.865295     157.853989     167.166046  \n",
      "26     151.683289     157.795776     167.346207  \n",
      "27     151.856812     158.151566     168.124924  \n",
      "28     152.496887     158.830338     168.783310  \n",
      "29     152.221375     158.704041     168.870712  \n",
      "30     152.571503     159.216843     169.700394  \n",
      "31     152.249954     158.903305     169.421432  \n",
      "32     152.202728     159.001999     169.516357  \n",
      "33     151.873428     158.621353     169.364975  \n",
      "34     151.697403     158.552780     169.559586  \n",
      "35     151.850708     158.810104     169.842484  \n",
      "36     151.923965     158.928970     170.134399  \n",
      "37     151.606400     158.757385     170.055786  \n",
      "38     152.057953     159.246231     170.604095  \n",
      "39     151.953033     159.180832     170.737549  \n",
      "40     152.073853     159.449417     170.940399  \n",
      "41     151.822128     159.130157     170.945831  \n",
      "42     152.377289     160.086441     172.392517  \n",
      "43     151.624710     159.293427     171.529251  \n",
      "44     151.971512     159.914032     172.298019  \n",
      "45     152.700607     160.522568     172.893402  \n",
      "46     152.506470     160.415390     173.092545  \n",
      "47     152.191360     160.062286     172.656784  \n",
      "48     152.622711     160.621750     173.454041  \n",
      "49     152.571243     160.721313     173.818024  \n"
     ]
    }
   ],
   "source": [
    "train.reset_index(inplace=True) \n",
    "\n",
    "#5. Build input dataframe for TimesFM\n",
    "# Create the dataframe in the format required by TimesFM\n",
    "input_df = pd.DataFrame({\n",
    "    \"unique_id\": [\"NVDA\"] * len(train),  # Use \"NVDA\" as the unique identifier\n",
    "    \"ds\": train[\"Date\"],                # Date column\n",
    "    \"y\": train[\"Close\"]                 # Closing price\n",
    "})\n",
    "\n",
    "\n",
    "# 3. Ensure y values are 1-dimensional\n",
    "# Flatten y to ensure it is a 1D array\n",
    "input_df[\"y\"] = input_df[\"y\"].values.flatten()\n",
    "\n",
    "\n",
    "# 6. Forecast using TimesFM\n",
    "# Pass the input dataframe to the TimesFM model for forecasting\n",
    "forecast_df = tfm.forecast_on_df(\n",
    "    inputs=input_df,  # Input dataframe\n",
    "    freq=\"D\",         # Daily frequency\n",
    "    value_name=\"y\",   # The column to predict\n",
    "    num_jobs=-1       # Use all available cores for parallel processing\n",
    ")\n",
    "\n",
    "# 7. Display forecast results\n",
    "print(forecast_df)\n"
   ]
  },
  {
   "cell_type": "code",
   "execution_count": 16,
   "metadata": {},
   "outputs": [
    {
     "data": {
      "text/html": [
       "<div>\n",
       "<style scoped>\n",
       "    .dataframe tbody tr th:only-of-type {\n",
       "        vertical-align: middle;\n",
       "    }\n",
       "\n",
       "    .dataframe tbody tr th {\n",
       "        vertical-align: top;\n",
       "    }\n",
       "\n",
       "    .dataframe thead th {\n",
       "        text-align: right;\n",
       "    }\n",
       "</style>\n",
       "<table border=\"1\" class=\"dataframe\">\n",
       "  <thead>\n",
       "    <tr style=\"text-align: right;\">\n",
       "      <th></th>\n",
       "      <th>unique_id</th>\n",
       "      <th>ds</th>\n",
       "      <th>y</th>\n",
       "    </tr>\n",
       "  </thead>\n",
       "  <tbody>\n",
       "    <tr>\n",
       "      <th>0</th>\n",
       "      <td>NVDA</td>\n",
       "      <td>2010-06-29 00:00:00-04:00</td>\n",
       "      <td>0.240276</td>\n",
       "    </tr>\n",
       "    <tr>\n",
       "      <th>1</th>\n",
       "      <td>NVDA</td>\n",
       "      <td>2010-06-30 00:00:00-04:00</td>\n",
       "      <td>0.234086</td>\n",
       "    </tr>\n",
       "    <tr>\n",
       "      <th>2</th>\n",
       "      <td>NVDA</td>\n",
       "      <td>2010-07-01 00:00:00-04:00</td>\n",
       "      <td>0.237984</td>\n",
       "    </tr>\n",
       "    <tr>\n",
       "      <th>3</th>\n",
       "      <td>NVDA</td>\n",
       "      <td>2010-07-02 00:00:00-04:00</td>\n",
       "      <td>0.235003</td>\n",
       "    </tr>\n",
       "    <tr>\n",
       "      <th>4</th>\n",
       "      <td>NVDA</td>\n",
       "      <td>2010-07-06 00:00:00-04:00</td>\n",
       "      <td>0.232481</td>\n",
       "    </tr>\n",
       "    <tr>\n",
       "      <th>...</th>\n",
       "      <td>...</td>\n",
       "      <td>...</td>\n",
       "      <td>...</td>\n",
       "    </tr>\n",
       "    <tr>\n",
       "      <th>3647</th>\n",
       "      <td>NVDA</td>\n",
       "      <td>2024-12-24 00:00:00-05:00</td>\n",
       "      <td>140.220001</td>\n",
       "    </tr>\n",
       "    <tr>\n",
       "      <th>3648</th>\n",
       "      <td>NVDA</td>\n",
       "      <td>2024-12-26 00:00:00-05:00</td>\n",
       "      <td>139.929993</td>\n",
       "    </tr>\n",
       "    <tr>\n",
       "      <th>3649</th>\n",
       "      <td>NVDA</td>\n",
       "      <td>2024-12-27 00:00:00-05:00</td>\n",
       "      <td>137.009995</td>\n",
       "    </tr>\n",
       "    <tr>\n",
       "      <th>3650</th>\n",
       "      <td>NVDA</td>\n",
       "      <td>2024-12-30 00:00:00-05:00</td>\n",
       "      <td>137.490005</td>\n",
       "    </tr>\n",
       "    <tr>\n",
       "      <th>3651</th>\n",
       "      <td>NVDA</td>\n",
       "      <td>2024-12-31 00:00:00-05:00</td>\n",
       "      <td>134.289993</td>\n",
       "    </tr>\n",
       "  </tbody>\n",
       "</table>\n",
       "<p>3652 rows × 3 columns</p>\n",
       "</div>"
      ],
      "text/plain": [
       "     unique_id                        ds           y\n",
       "0         NVDA 2010-06-29 00:00:00-04:00    0.240276\n",
       "1         NVDA 2010-06-30 00:00:00-04:00    0.234086\n",
       "2         NVDA 2010-07-01 00:00:00-04:00    0.237984\n",
       "3         NVDA 2010-07-02 00:00:00-04:00    0.235003\n",
       "4         NVDA 2010-07-06 00:00:00-04:00    0.232481\n",
       "...        ...                       ...         ...\n",
       "3647      NVDA 2024-12-24 00:00:00-05:00  140.220001\n",
       "3648      NVDA 2024-12-26 00:00:00-05:00  139.929993\n",
       "3649      NVDA 2024-12-27 00:00:00-05:00  137.009995\n",
       "3650      NVDA 2024-12-30 00:00:00-05:00  137.490005\n",
       "3651      NVDA 2024-12-31 00:00:00-05:00  134.289993\n",
       "\n",
       "[3652 rows x 3 columns]"
      ]
     },
     "execution_count": 16,
     "metadata": {},
     "output_type": "execute_result"
    }
   ],
   "source": [
    "input_df"
   ]
  },
  {
   "cell_type": "markdown",
   "metadata": {},
   "source": [
    "### 2. Compare actual vs predict\n"
   ]
  },
  {
   "cell_type": "code",
   "execution_count": 17,
   "metadata": {},
   "outputs": [],
   "source": [
    "# forecast_df[\"ds\"]"
   ]
  },
  {
   "cell_type": "code",
   "execution_count": 18,
   "metadata": {},
   "outputs": [],
   "source": [
    "# forecast_df[\"timesfm\"]"
   ]
  },
  {
   "cell_type": "code",
   "execution_count": 19,
   "metadata": {},
   "outputs": [],
   "source": [
    "# train.head()"
   ]
  },
  {
   "cell_type": "code",
   "execution_count": 20,
   "metadata": {},
   "outputs": [],
   "source": [
    "# train.index = train['Date']\n",
    "# train.head()\n",
    "\n",
    "# #remove index column from train\n",
    "# train.drop(columns=['index'], inplace=True)\n",
    "# train.head()"
   ]
  },
  {
   "cell_type": "code",
   "execution_count": 21,
   "metadata": {},
   "outputs": [
    {
     "data": {
      "image/png": "[encoded data removed]",
      "text/plain": [
       "<Figure size 1200x400 with 1 Axes>"
      ]
     },
     "metadata": {},
     "output_type": "display_data"
    }
   ],
   "source": [
    "# Plot actual and predicted values for the test set\n",
    "\n",
    "plt.figure(figsize=(12,4))\n",
    "# plt.plot(train.index, train['Close'], label='Train')\n",
    "plt.plot(test.index, test['Close'], label='Test')\n",
    "plt.plot(forecast_df[\"ds\"], forecast_df[\"timesfm\"], label=\"Prediction\", color=\"blue\")\n",
    "plt.fill_between(\n",
    "    forecast_df[\"ds\"],\n",
    "    forecast_df[\"timesfm-q-0.1\"],\n",
    "    forecast_df[\"timesfm-q-0.9\"],\n",
    "    color=\"blue\",\n",
    "    alpha=0.2,\n",
    "    label=\"10%-90% Interval\"\n",
    ")\n",
    "plt.xlabel(\"Date\")\n",
    "plt.ylabel(\"Stock Price\")\n",
    "plt.title(\"Actual vs Predicted Stock Price\")\n",
    "plt.legend()\n",
    "plt.show()\n",
    "\n"
   ]
  },
  {
   "cell_type": "markdown",
   "metadata": {},
   "source": [
    "### 3. performance valuation matrix ( mse, rsme, mae, r-square)\n",
    "\n",
    "-  set the seed \n",
    "- try different seed value and check if the result is the same or not.\n",
    "- improve hyperparameter (try)\n",
    "- when I make the markdown note, I should know what each parameter do (taking note for everything)s"
   ]
  },
  {
   "cell_type": "code",
   "execution_count": 22,
   "metadata": {},
   "outputs": [],
   "source": [
    "# forecast_df[\"timesfm\"]"
   ]
  },
  {
   "cell_type": "code",
   "execution_count": 23,
   "metadata": {},
   "outputs": [],
   "source": [
    "# test['Close']"
   ]
  },
  {
   "cell_type": "code",
   "execution_count": 24,
   "metadata": {},
   "outputs": [
    {
     "name": "stdout",
     "output_type": "stream",
     "text": [
      "RMSE: 11.85553491867495\n",
      "MAE: 8.90373302641369\n",
      "R2: -0.5715075304127415\n"
     ]
    }
   ],
   "source": [
    "\n",
    "# performance valuation matrix\n",
    "from sklearn.metrics import mean_squared_error, mean_absolute_error, r2_score\n",
    "\n",
    "# Align forecast_df with test set\n",
    "aligned_forecast_df = forecast_df[forecast_df[\"ds\"].isin(test.index)]\n",
    "\n",
    "# Calculate MSE\n",
    "mse = mean_squared_error(test['Close'], aligned_forecast_df[\"timesfm\"])\n",
    "\n",
    "# Calculate RMSE\n",
    "rmse = np.sqrt(mse)\n",
    "\n",
    "# Calculate MAE\n",
    "mae = mean_absolute_error(test['Close'], aligned_forecast_df[\"timesfm\"])\n",
    "\n",
    "# Calculate R2\n",
    "r2 = r2_score(test['Close'], aligned_forecast_df[\"timesfm\"])\n",
    "\n",
    "print(f\"RMSE: {rmse}\")\n",
    "print(f\"MAE: {mae}\")\n",
    "print(f\"R2: {r2}\")\n"
   ]
  },
  {
   "cell_type": "markdown",
   "metadata": {},
   "source": []
  }
 ],
 "metadata": {
  "kernelspec": {
   "display_name": "Python (pyenv 3.11.11)",
   "language": "python",
   "name": "pyenv_3.11.11"
  },
  "language_info": {
   "codemirror_mode": {
    "name": "ipython",
    "version": 3
   },
   "file_extension": ".py",
   "mimetype": "text/x-python",
   "name": "python",
   "nbconvert_exporter": "python",
   "pygments_lexer": "ipython3",
   "version": "3.11.11"
  }
 },
 "nbformat": 4,
 "nbformat_minor": 2
}
