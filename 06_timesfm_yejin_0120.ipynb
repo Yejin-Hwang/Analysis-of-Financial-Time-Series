{
 "cells": [
  {
   "cell_type": "markdown",
   "metadata": {},
   "source": [
    "# Timesfm model for predict today's tesla stock price (yejin)\n",
    "\n",
    "- reference \n",
    ": https://huggingface.co/google/timesfm-1.0-200m\n",
    "\n",
    "* used python 3.11.11 in jupyter kernel on my mac"
   ]
  },
  {
   "cell_type": "code",
   "execution_count": 1,
   "metadata": {},
   "outputs": [],
   "source": [
    "import pandas as pd\n",
    "import numpy as np\n",
    "import matplotlib.pyplot as plt\n",
    "import yfinance as yf\n",
    "from time import time\n",
    "from datetime import date\n",
    "import warnings\n",
    "warnings.filterwarnings(\"ignore\")"
   ]
  },
  {
   "cell_type": "code",
   "execution_count": 2,
   "metadata": {},
   "outputs": [
    {
     "name": "stdout",
     "output_type": "stream",
     "text": [
      " See https://github.com/google-research/timesfm/blob/master/README.md for updated APIs.\n",
      "Loaded PyTorch TimesFM, likely because python version is 3.11.11 (main, Jan 27 2025, 15:58:08) [Clang 16.0.0 (clang-1600.0.26.6)].\n"
     ]
    },
    {
     "data": {
      "application/vnd.jupyter.widget-view+json": {
       "model_id": "9f0d6240cef64e14bee278aa83b59d65",
       "version_major": 2,
       "version_minor": 0
      },
      "text/plain": [
       "Fetching 3 files:   0%|          | 0/3 [00:00<?, ?it/s]"
      ]
     },
     "metadata": {},
     "output_type": "display_data"
    }
   ],
   "source": [
    "import timesfm\n",
    "# For Torch\n",
    "tfm = timesfm.TimesFm(\n",
    "      hparams=timesfm.TimesFmHparams(\n",
    "          backend=\"gpu\",\n",
    "          per_core_batch_size=32,\n",
    "          horizon_len=128,\n",
    "          num_layers=50,\n",
    "          use_positional_embedding=False,\n",
    "          context_len=2048,\n",
    "      ),\n",
    "      checkpoint=timesfm.TimesFmCheckpoint(\n",
    "          huggingface_repo_id=\"google/timesfm-2.0-500m-pytorch\"),\n",
    "  )"
   ]
  },
  {
   "cell_type": "code",
   "execution_count": 3,
   "metadata": {},
   "outputs": [
    {
     "data": {
      "application/vnd.jupyter.widget-view+json": {
       "model_id": "dc2ed6a314524410b45c712934d4b92e",
       "version_major": 2,
       "version_minor": 0
      },
      "text/plain": [
       "Fetching 3 files:   0%|          | 0/3 [00:00<?, ?it/s]"
      ]
     },
     "metadata": {},
     "output_type": "display_data"
    }
   ],
   "source": [
    "# For Torch\n",
    "tfm = timesfm.TimesFm(\n",
    "      hparams=timesfm.TimesFmHparams(\n",
    "          backend=\"gpu\",\n",
    "          per_core_batch_size=32,\n",
    "          horizon_len=128,\n",
    "      ),\n",
    "      checkpoint=timesfm.TimesFmCheckpoint(\n",
    "          huggingface_repo_id=\"google/timesfm-1.0-200m-pytorch\"),\n",
    "  )"
   ]
  },
  {
   "cell_type": "code",
   "execution_count": 5,
   "metadata": {},
   "outputs": [
    {
     "data": {
      "text/html": [
       "<div>\n",
       "<style scoped>\n",
       "    .dataframe tbody tr th:only-of-type {\n",
       "        vertical-align: middle;\n",
       "    }\n",
       "\n",
       "    .dataframe tbody tr th {\n",
       "        vertical-align: top;\n",
       "    }\n",
       "\n",
       "    .dataframe thead th {\n",
       "        text-align: right;\n",
       "    }\n",
       "</style>\n",
       "<table border=\"1\" class=\"dataframe\">\n",
       "  <thead>\n",
       "    <tr style=\"text-align: right;\">\n",
       "      <th></th>\n",
       "      <th>Date</th>\n",
       "      <th>Open</th>\n",
       "      <th>High</th>\n",
       "      <th>Low</th>\n",
       "      <th>Close</th>\n",
       "      <th>Volume</th>\n",
       "      <th>Dividends</th>\n",
       "      <th>Stock Splits</th>\n",
       "    </tr>\n",
       "  </thead>\n",
       "  <tbody>\n",
       "    <tr>\n",
       "      <th>0</th>\n",
       "      <td>2010-06-29 00:00:00-04:00</td>\n",
       "      <td>1.266667</td>\n",
       "      <td>1.666667</td>\n",
       "      <td>1.169333</td>\n",
       "      <td>1.592667</td>\n",
       "      <td>281494500</td>\n",
       "      <td>0.0</td>\n",
       "      <td>0.0</td>\n",
       "    </tr>\n",
       "    <tr>\n",
       "      <th>1</th>\n",
       "      <td>2010-06-30 00:00:00-04:00</td>\n",
       "      <td>1.719333</td>\n",
       "      <td>2.028000</td>\n",
       "      <td>1.553333</td>\n",
       "      <td>1.588667</td>\n",
       "      <td>257806500</td>\n",
       "      <td>0.0</td>\n",
       "      <td>0.0</td>\n",
       "    </tr>\n",
       "    <tr>\n",
       "      <th>2</th>\n",
       "      <td>2010-07-01 00:00:00-04:00</td>\n",
       "      <td>1.666667</td>\n",
       "      <td>1.728000</td>\n",
       "      <td>1.351333</td>\n",
       "      <td>1.464000</td>\n",
       "      <td>123282000</td>\n",
       "      <td>0.0</td>\n",
       "      <td>0.0</td>\n",
       "    </tr>\n",
       "    <tr>\n",
       "      <th>3</th>\n",
       "      <td>2010-07-02 00:00:00-04:00</td>\n",
       "      <td>1.533333</td>\n",
       "      <td>1.540000</td>\n",
       "      <td>1.247333</td>\n",
       "      <td>1.280000</td>\n",
       "      <td>77097000</td>\n",
       "      <td>0.0</td>\n",
       "      <td>0.0</td>\n",
       "    </tr>\n",
       "    <tr>\n",
       "      <th>4</th>\n",
       "      <td>2010-07-06 00:00:00-04:00</td>\n",
       "      <td>1.333333</td>\n",
       "      <td>1.333333</td>\n",
       "      <td>1.055333</td>\n",
       "      <td>1.074000</td>\n",
       "      <td>103003500</td>\n",
       "      <td>0.0</td>\n",
       "      <td>0.0</td>\n",
       "    </tr>\n",
       "  </tbody>\n",
       "</table>\n",
       "</div>"
      ],
      "text/plain": [
       "                       Date      Open      High       Low     Close  \\\n",
       "0 2010-06-29 00:00:00-04:00  1.266667  1.666667  1.169333  1.592667   \n",
       "1 2010-06-30 00:00:00-04:00  1.719333  2.028000  1.553333  1.588667   \n",
       "2 2010-07-01 00:00:00-04:00  1.666667  1.728000  1.351333  1.464000   \n",
       "3 2010-07-02 00:00:00-04:00  1.533333  1.540000  1.247333  1.280000   \n",
       "4 2010-07-06 00:00:00-04:00  1.333333  1.333333  1.055333  1.074000   \n",
       "\n",
       "      Volume  Dividends  Stock Splits  \n",
       "0  281494500        0.0           0.0  \n",
       "1  257806500        0.0           0.0  \n",
       "2  123282000        0.0           0.0  \n",
       "3   77097000        0.0           0.0  \n",
       "4  103003500        0.0           0.0  "
      ]
     },
     "execution_count": 4,
     "metadata": {},
     "output_type": "execute_result"
    }
   ],
   "source": [
    "# 1. Fetch stock data for TSLA\n",
    "GetTSLA = yf.Ticker(\"TSLA\")\n",
    "TSLA_data=GetTSLA.history(period=\"max\")\n",
    "TSLA_data.reset_index(inplace=True)  # Reset index to make \"Date\" a column\n",
    "TSLA_data.head()"
   ]
  },
  {
   "cell_type": "markdown",
   "metadata": {},
   "source": [
    "### Autocorrelation Analysis for Period Selection\n",
    "\n",
    "To determine the appropriate sampling periods for the time series model, I analyzed the **Autocorrelation Function (ACF)** of the data. I generated ACF plots for both the **original stock price data** and the **differenced version** to observe any significant lags or periodic patterns.\n",
    "\n",
    "Based on the results, I tested multiple sampling intervals (e.g., **5-day, 7-day, and 10-day** intervals) to find an optimal resampling frequency for the model input.\n",
    "\n",
    "Since the **TimesFM model does not require stationarity**, I decided to proceed with the **original (non-differenced) data** while keeping the selected sampling periods.\n"
   ]
  },
  {
   "cell_type": "code",
   "execution_count": 6,
   "metadata": {},
   "outputs": [
    {
     "data": {
      "text/plain": [
       "Text(0.5, 1.0, 'Difference once')"
      ]
     },
     "execution_count": 6,
     "metadata": {},
     "output_type": "execute_result"
    },
    {
     "data": {
      "image/png": "[encoded data removed]",
      "text/plain": [
       "<Figure size 1600x400 with 2 Axes>"
      ]
     },
     "metadata": {},
     "output_type": "display_data"
    }
   ],
   "source": [
    "from statsmodels.graphics.tsaplots import plot_acf\n",
    "\n",
    "price = TSLA_data[\"Close\"]\n",
    "fig, (ax1, ax2 ) = plt.subplots(1, 2, figsize=(16, 4))\n",
    "price_diff = price.diff().dropna()\n",
    "\n",
    "\n",
    "plot_acf(price, lags=50, ax=ax1)  # Check autocorrelation\n",
    "plot_acf(price_diff, lags=50, ax=ax2)\n",
    "ax2.set_title(\"Difference once\")"
   ]
  },
  {
   "cell_type": "code",
   "execution_count": 7,
   "metadata": {},
   "outputs": [
    {
     "name": "stdout",
     "output_type": "stream",
     "text": [
      "Sampling every 5 days: 734 samples remaining\n",
      "Sampling every 7 days: 524 samples remaining\n",
      "Sampling every 10 days: 367 samples remaining\n",
      "Sampling every 14 days: 262 samples remaining\n",
      "Sampling every 20 days: 184 samples remaining\n"
     ]
    }
   ],
   "source": [
    "# To check if the number of samples is enough\n",
    "for days in [5, 7, 10, 14, 20]:\n",
    "    print(f\"Sampling every {days} days: {len(price.values[::days])} samples remaining\")"
   ]
  },
  {
   "cell_type": "code",
   "execution_count": 8,
   "metadata": {},
   "outputs": [],
   "source": [
    "# 2. Prepare input data (resample and ensure 1D)\n",
    "forecast_input = [\n",
    "    np.array(price.values[::5]).flatten(),   # Every 5th day\n",
    "    np.array(price.values[::7]).flatten(),  # Every 7th day\n",
    "    np.array(price.values[::10]).flatten(),  # Every 10th day\n",
    "]\n",
    "\n",
    "# 3. Ensure all arrays have the same length\n",
    "min_length = min(len(arr) for arr in forecast_input)\n",
    "forecast_input = [arr[:min_length] for arr in forecast_input]"
   ]
  },
  {
   "cell_type": "markdown",
   "metadata": {},
   "source": [
    "### Determining of the frequency input\n",
    "In particular regarding the frequency, TimesFM expects a categorical indicator valued in {0, 1, 2}:\n",
    "\n",
    "- 0 (default): high frequency, long horizon time series. We recommend using this for time series up to daily granularity.\n",
    "- 1: medium frequency time series. We recommend using this for weekly and monthly data.\n",
    "- 2: low frequency, short horizon time series. We recommend using this for anything beyond monthly, e.g. quarterly or yearly.\n",
    "This categorical value should be directly provided with the array inputs. For dataframe inputs, we convert the conventional letter coding of frequencies to our expected categories, that\n",
    "\n",
    "0: T, MIN, H, D, B, U\n",
    "\n",
    "1: W, M\n",
    "\n",
    "2: Q, Y"
   ]
  },
  {
   "cell_type": "code",
   "execution_count": 9,
   "metadata": {},
   "outputs": [],
   "source": [
    "# 4. Frequency input \n",
    "frequency_input = [0]"
   ]
  },
  {
   "cell_type": "code",
   "execution_count": 10,
   "metadata": {},
   "outputs": [
    {
     "name": "stdout",
     "output_type": "stream",
     "text": [
      "Processing dataframe with multiple processes.\n",
      " See https://github.com/google-research/timesfm/blob/master/README.md for updated APIs.\n",
      "Loaded PyTorch TimesFM, likely because python version is 3.11.11 (main, Jan 27 2025, 15:58:08) [Clang 16.0.0 (clang-1600.0.26.6)].\n",
      "Finished preprocessing dataframe.\n",
      "Finished forecasting.\n",
      "    unique_id                        ds     timesfm  timesfm-q-0.1  \\\n",
      "0        TSLA 2025-01-28 00:00:00-05:00  393.185944     371.132629   \n",
      "1        TSLA 2025-01-29 00:00:00-05:00  390.706970     361.603424   \n",
      "2        TSLA 2025-01-30 00:00:00-05:00  391.542450     356.459290   \n",
      "3        TSLA 2025-01-31 00:00:00-05:00  386.006287     347.198547   \n",
      "4        TSLA 2025-02-01 00:00:00-05:00  381.998108     338.454346   \n",
      "..        ...                       ...         ...            ...   \n",
      "123      TSLA 2025-05-31 01:00:00-04:00  381.088867     260.190216   \n",
      "124      TSLA 2025-06-01 01:00:00-04:00  379.538086     259.106171   \n",
      "125      TSLA 2025-06-02 01:00:00-04:00  376.451477     258.982605   \n",
      "126      TSLA 2025-06-03 01:00:00-04:00  383.379517     260.791870   \n",
      "127      TSLA 2025-06-04 01:00:00-04:00  391.567810     266.812744   \n",
      "\n",
      "     timesfm-q-0.2  timesfm-q-0.3  timesfm-q-0.4  timesfm-q-0.5  \\\n",
      "0       381.473450     383.681274     388.428741     393.185944   \n",
      "1       374.039856     380.132080     385.853973     390.706970   \n",
      "2       369.702789     377.920807     384.494812     391.542450   \n",
      "3       363.841064     371.541779     378.598358     386.006287   \n",
      "4       355.120392     364.860992     374.278473     381.998108   \n",
      "..             ...            ...            ...            ...   \n",
      "123     306.652100     332.494385     356.481201     381.088867   \n",
      "124     304.542786     334.439331     355.416138     379.538086   \n",
      "125     301.933044     328.299011     354.243408     376.451477   \n",
      "126     304.839417     335.556885     358.000916     383.379517   \n",
      "127     312.963135     341.586334     367.730408     391.567810   \n",
      "\n",
      "     timesfm-q-0.6  timesfm-q-0.7  timesfm-q-0.8  timesfm-q-0.9  \n",
      "0       395.407898     399.046570     402.175293     413.013885  \n",
      "1       395.637756     401.577148     410.094849     421.671082  \n",
      "2       397.306030     403.039246     414.397400     430.143860  \n",
      "3       393.673706     403.864502     412.036926     431.939636  \n",
      "4       389.964142     402.339539     412.464722     432.180603  \n",
      "..             ...            ...            ...            ...  \n",
      "123     402.078552     429.515442     461.784851     510.867065  \n",
      "124     403.946899     428.396545     461.987122     510.963806  \n",
      "125     403.895599     426.793335     459.887329     514.513306  \n",
      "126     405.813477     431.846436     461.193420     513.877441  \n",
      "127     415.218292     440.539978     471.185608     523.329285  \n",
      "\n",
      "[128 rows x 12 columns]\n"
     ]
    }
   ],
   "source": [
    "#5. Build input dataframe for TimesFM\n",
    "# Create the dataframe in the format required by TimesFM\n",
    "input_df = pd.DataFrame({\n",
    "    \"unique_id\": [\"TSLA\"] * len(TSLA_data),  # Use \"TSLA\" as the unique identifier\n",
    "    \"ds\": TSLA_data[\"Date\"],                # Date column\n",
    "    \"y\": TSLA_data[\"Close\"]                 # Closing price\n",
    "})\n",
    "\n",
    "# 3. Ensure y values are 1-dimensional\n",
    "# Flatten y to ensure it is a 1D array\n",
    "input_df[\"y\"] = input_df[\"y\"].values.flatten()\n",
    "\n",
    "\n",
    "# 6. Forecast using TimesFM\n",
    "# Pass the input dataframe to the TimesFM model for forecasting\n",
    "forecast_df = tfm.forecast_on_df(\n",
    "    inputs=input_df,  # Input dataframe\n",
    "    freq=\"D\",         # Dailt frequency\n",
    "    value_name=\"y\",   # The column to predict\n",
    "    num_jobs=-1       # Use all available cores for parallel processing\n",
    ")\n",
    "\n",
    "# 7. Display forecast results\n",
    "print(forecast_df)\n"
   ]
  },
  {
   "cell_type": "markdown",
   "metadata": {},
   "source": [
    "# TimesFM Forecast Interpretation\n",
    "The forecast results include multiple columns that represent the predicted values and their uncertainty ranges. Here's how to interpret the key columns:\n",
    "\n",
    "\n",
    "- timesfm: Median prediction (most likely value).\n",
    "\n",
    "- timesfm-q-0.1: 10% quantile prediction (lower range of uncertainty).\n",
    "\n",
    "- timesfm-q-0.5: 50% quantile prediction (equivalent to timesfm median).\n",
    "\n",
    "- timesfm-q-0.9: 90% quantile prediction (higher range of uncertainty, if available).\n",
    "\n",
    "\n",
    "<Example Interpretation: > \n",
    "For a given date (e.g., 2025-01-28):\n",
    "\n",
    "- Median prediction (timesfm): 393.19 → The most likely stock price.\n",
    "\n",
    "- 10% quantile (timesfm-q-0.1): 371.13 → Lower bound of the range.\n",
    "\n",
    "- 50% quantile (timesfm-q-0.5): 393.19 → The central prediction (same as timesfm).\n",
    "\n",
    "- 90% quantile: (if present) Higher bound of the range."
   ]
  },
  {
   "cell_type": "code",
   "execution_count": 11,
   "metadata": {},
   "outputs": [
    {
     "data": {
      "image/png": "[encoded data removed]",
      "text/plain": [
       "<Figure size 1200x400 with 1 Axes>"
      ]
     },
     "metadata": {},
     "output_type": "display_data"
    }
   ],
   "source": [
    "import matplotlib.pyplot as plt\n",
    "\n",
    "plt.figure(figsize=(12,4))\n",
    "plt.plot(forecast_df[\"ds\"], forecast_df[\"timesfm\"], label=\"Median Prediction\", color=\"blue\")\n",
    "plt.fill_between(\n",
    "    forecast_df[\"ds\"],\n",
    "    forecast_df[\"timesfm-q-0.1\"],\n",
    "    forecast_df[\"timesfm-q-0.5\"],\n",
    "    color=\"blue\",\n",
    "    alpha=0.2,\n",
    "    label=\"10%-50% Interval\"\n",
    ")\n",
    "plt.xlabel(\"Date\")\n",
    "plt.ylabel(\"Stock Price\")\n",
    "plt.title(\"Tesla Stock Price Forecast\")\n",
    "plt.legend()\n",
    "plt.show()\n"
   ]
  },
  {
   "cell_type": "markdown",
   "metadata": {},
   "source": [
    "# Predicting Tomorrow's TSLA stock price"
   ]
  },
  {
   "cell_type": "code",
   "execution_count": 12,
   "metadata": {},
   "outputs": [
    {
     "name": "stdout",
     "output_type": "stream",
     "text": [
      "  unique_id                        ds     timesfm  timesfm-q-0.1  \\\n",
      "0      TSLA 2025-01-28 00:00:00-05:00  393.185944     371.132629   \n",
      "\n",
      "   timesfm-q-0.2  timesfm-q-0.3  timesfm-q-0.4  timesfm-q-0.5  timesfm-q-0.6  \\\n",
      "0      381.47345     383.681274     388.428741     393.185944     395.407898   \n",
      "\n",
      "   timesfm-q-0.7  timesfm-q-0.8  timesfm-q-0.9  \n",
      "0      399.04657     402.175293     413.013885  \n"
     ]
    }
   ],
   "source": [
    "from datetime import datetime, timedelta\n",
    "\n",
    "# Generate the next day's datetime\n",
    "today = datetime.today()\n",
    "tmr = (today + timedelta(days=1)).date()  \n",
    "\n",
    "# Ensure both tmr and forecast_df[\"ds\"] are datetime\n",
    "forecast_df[\"ds\"] = pd.to_datetime(forecast_df[\"ds\"])  # Convert to datetime\n",
    "filtered_df = forecast_df[forecast_df[\"ds\"].dt.date == tmr]  # Compare dates directly\n",
    "\n",
    "print(filtered_df)"
   ]
  },
  {
   "cell_type": "code",
   "execution_count": 13,
   "metadata": {},
   "outputs": [
    {
     "name": "stdout",
     "output_type": "stream",
     "text": [
      "2025-01-28\n"
     ]
    }
   ],
   "source": [
    "print(tmr)"
   ]
  }
 ],
 "metadata": {
  "kernelspec": {
   "display_name": "3.11.11",
   "language": "python",
   "name": "python3"
  },
  "language_info": {
   "codemirror_mode": {
    "name": "ipython",
    "version": 3
   },
   "file_extension": ".py",
   "mimetype": "text/x-python",
   "name": "python",
   "nbconvert_exporter": "python",
   "pygments_lexer": "ipython3",
   "version": "3.11.11"
  }
 },
 "nbformat": 4,
 "nbformat_minor": 2
}
